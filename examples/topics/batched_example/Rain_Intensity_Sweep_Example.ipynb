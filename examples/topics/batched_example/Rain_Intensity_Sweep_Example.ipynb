{
 "cells": [
  {
   "cell_type": "markdown",
   "metadata": {},
   "source": [
    "In this notebook, we will use [Lancet](https://ioam.github.io/lancet/) to perform a parameter sweep over 3 values of the ``rain_intensity`` parameter defined in [GSSHA_Workflow_Batched_Example2](GSSHA_Workflow_Batched_Example2.ipynb).\n",
    "\n",
    "First import lancet:"
   ]
  },
  {
   "cell_type": "code",
   "execution_count": null,
   "metadata": {},
   "outputs": [],
   "source": [
    "import lancet"
   ]
  },
  {
   "cell_type": "markdown",
   "metadata": {},
   "source": [
    "## Declaring the ``Arguments``\n",
    "\n",
    "Next we define our constant parameters using ``lancet.Args``:"
   ]
  },
  {
   "cell_type": "code",
   "execution_count": null,
   "metadata": {},
   "outputs": [],
   "source": [
    "rain_duration = lancet.Args(rain_duration=3600)"
   ]
  },
  {
   "cell_type": "markdown",
   "metadata": {},
   "source": [
    "Next we use ``lancet.List`` to define the three parameters we want to use for ``rain_intensity``:"
   ]
  },
  {
   "cell_type": "code",
   "execution_count": null,
   "metadata": {},
   "outputs": [],
   "source": [
    "rain_intensity       = lancet.List('rain_intensity', [24,26,28])"
   ]
  },
  {
   "cell_type": "markdown",
   "metadata": {},
   "source": [
    "Finally we take the cartesian product of these parameters using the ``*`` operator:"
   ]
  },
  {
   "cell_type": "code",
   "execution_count": null,
   "metadata": {},
   "outputs": [],
   "source": [
    "args = rain_intensity * rain_duration"
   ]
  },
  {
   "cell_type": "markdown",
   "metadata": {},
   "source": [
    "Here is the ``args`` object's repr:"
   ]
  },
  {
   "cell_type": "code",
   "execution_count": null,
   "metadata": {},
   "outputs": [],
   "source": [
    "args"
   ]
  },
  {
   "cell_type": "markdown",
   "metadata": {},
   "source": [
    "And the result of calling its ``show`` method used to inspect the sets of arguments that will be executed:"
   ]
  },
  {
   "cell_type": "code",
   "execution_count": null,
   "metadata": {},
   "outputs": [],
   "source": [
    "args.show()"
   ]
  },
  {
   "cell_type": "markdown",
   "metadata": {},
   "source": [
    "## Defining ``ReportCommand``"
   ]
  },
  {
   "cell_type": "markdown",
   "metadata": {},
   "source": [
    "Next we need to define how our arguments map to the ``param`` command described in [GSSHA_Workflow_Batched_Example2](GSSHA_Workflow_Batched_Example2.ipynb). To do this we define a ``ReportCommand`` subclass of ``lancet.Command``.\n",
    "\n",
    "Note that this code is shown in this notebook to demonstrate how to interface lancet with an arbitrary command. Normally you would not show this code in a notebook and would simply import ``ReportCommand`` from the appropriate library."
   ]
  },
  {
   "cell_type": "code",
   "execution_count": null,
   "metadata": {},
   "outputs": [],
   "source": [
    "import param\n",
    "import os\n",
    "class ReportCommand(lancet.Command):\n",
    "    \n",
    "    notebook_path = param.String(doc='Path to the notebook used to generate the report')\n",
    "    \n",
    "    options = param.List(['--ExecutePreprocessor.allow_errors=True', \n",
    "                          '--ExecutePreprocessor.timeout=900'], doc=\"\"\"\n",
    "    Additional options to supply to nbconvert.\"\"\")\n",
    "\n",
    "    def __init__(self, notebook_path, **params):\n",
    "        super(ReportCommand,self).__init__(notebook_path=notebook_path,\n",
    "                                          do_format=False,\n",
    "                                          **params)\n",
    "        self.pprint_args(['notebook_path'],['options'])\n",
    "        \n",
    "    def _fname(self, spec, tid, info):\n",
    "        excluding = []\n",
    "        root_dir = info['root_directory']\n",
    "        params = [('tid' , tid)] + [(k,v) for  (k,v) in spec.items()\n",
    "                                    if k in info['varying_keys']\n",
    "                                    and k not in excluding]\n",
    "        basename = '_'.join('%s=%s' % (k,v) for (k,v) in sorted(params))\n",
    "        return os.path.join(root_dir, '%s_%s' % (info['batch_name'],\n",
    "                                                   basename))\n",
    "    def __call__(self, spec, tid=None, info={}):\n",
    "        keywords = ['%s=%r' % (k,v) for k,v in spec.items()]\n",
    "        params = []\n",
    "        for kw in keywords:\n",
    "            params.append('-p')\n",
    "            params.append(kw)\n",
    "            \n",
    "        output_options = \"--output-dir=%s --output %s\" % (info['root_directory'], \n",
    "                                                          self._fname(spec, tid, info))\n",
    "        inner_cmd = \"jupyter nbconvert --execute %s %s %s\" % (self.notebook_path, \n",
    "                                                              ' '.join(self.options),\n",
    "                                                              output_options)\n",
    "        return ['param', '-cmd', inner_cmd] + params\n",
    "        "
   ]
  },
  {
   "cell_type": "markdown",
   "metadata": {},
   "source": [
    "## Instantiating ``ReportCommand``"
   ]
  },
  {
   "cell_type": "markdown",
   "metadata": {},
   "source": [
    "Now we instantiate ``ReportCommand`` by specifying the path to the notebook we want to use to generate reports. We then look at this object's ``repr``:"
   ]
  },
  {
   "cell_type": "code",
   "execution_count": null,
   "metadata": {},
   "outputs": [],
   "source": [
    "notebook_path = os.path.abspath('GSSHA_Workflow_Batched_Example2.ipynb')\n",
    "gssha_report = ReportCommand(notebook_path=notebook_path)\n",
    "gssha_report"
   ]
  },
  {
   "cell_type": "markdown",
   "metadata": {},
   "source": [
    "## Running the batch"
   ]
  },
  {
   "cell_type": "markdown",
   "metadata": {},
   "source": [
    "Lastly, we declare a ``lancet.Launcher`` instance and call it to execute the batches locally. To run this on an Oracle Grid Engine cluster you should simply replace ``lancet.Launcher`` with ``lancet.QLauncher``.\n",
    "\n",
    "A ``Launcher`` takes a name for the experimental run, the ``Args`` and ``Command`` objects, and optional arguments such as the directory to collect results in (here it is ``'output'``) and a chosen limit on the number of concurrent processes executed:"
   ]
  },
  {
   "cell_type": "code",
   "execution_count": null,
   "metadata": {},
   "outputs": [],
   "source": [
    "lancet.Launcher('example', args, gssha_report, output_directory='output', max_concurrency=1)()"
   ]
  },
  {
   "cell_type": "markdown",
   "metadata": {},
   "source": [
    "This command will take a few minutes to execute, blocking the notebook thread as the batches are being run locally. If ``QLauncher`` were used or another ``Launcher`` based on an HPC batch system, this command would return as soon as the jobs are queued."
   ]
  },
  {
   "cell_type": "markdown",
   "metadata": {},
   "source": [
    "## Inspecting the results"
   ]
  },
  {
   "cell_type": "markdown",
   "metadata": {},
   "source": [
    "The results are found in timestamped directories within the chosen ``output_directory`` which will be called ``output`` in this instance.\n",
    "\n",
    "On Unix systems, you can see this by running the cell below:"
   ]
  },
  {
   "cell_type": "code",
   "execution_count": null,
   "metadata": {},
   "outputs": [],
   "source": [
    "ls ./output"
   ]
  },
  {
   "cell_type": "markdown",
   "metadata": {},
   "source": [
    "An example of the report output may be found in a location similar to ``output/2018-06-01_1353-example/example_rain_intensity=24_tid=0.html``. There will be as many such files and directories as batch jobs executed."
   ]
  }
 ],
 "metadata": {
  "kernelspec": {
   "display_name": "Python 3",
   "language": "python",
   "name": "python3"
  },
  "language_info": {
   "codemirror_mode": {
    "name": "ipython",
    "version": 3
   },
   "file_extension": ".py",
   "mimetype": "text/x-python",
   "name": "python",
   "nbconvert_exporter": "python",
   "pygments_lexer": "ipython3",
   "version": "3.6.5"
  }
 },
 "nbformat": 4,
 "nbformat_minor": 2
}
