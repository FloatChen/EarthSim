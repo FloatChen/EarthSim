{
 "cells": [
  {
   "cell_type": "markdown",
   "metadata": {},
   "source": [
    "This notebook shows a sample workflow for running hydrology simulations using the GSSHA model supported by a suite of primarily open-source Python libraries.  The workflow consists of:\n",
    "\n",
    "1. Selecting parameters to control the model to simulate, including a watershed shape file\n",
    "2. Visualizing the watershed shape in a geographic context (projected into a suitable coordinate system and overlaid on map tiles from a web tile server)\n",
    "3. If necessary, editing that watershed shape by hand and creating a new shape file with the edited result\n",
    "4. Selecting parameters to control the simulation, potentially overriding some selected earlier for the model creation (e.g. if running numerous conditions as a parameter sweep)\n",
    "5. Visualizing and reviewing the inputs to the simulation\n",
    "6. Running the underlying simulation, collecting data on flood depth at each time point as well as the overall maximum flood depth per grid cell\n",
    "7. Visualizing the flood depth over time and the maximum flood depth\n",
    "8. Analyzing the simulation speed to help shape expectations for computational requirements for future runs\n",
    "\n",
    "Each of these steps is configured directly in this notebook, and can thus easily be scripted or iterated as needed. The set of parameters and precisely how they are configured is still being improved, and it can likely be made into a better match to users' needs in this domain.\n",
    "\n",
    "The underlying environment needed to run this workflow is set up as described in the [README](https://github.com/ContinuumIO/EarthSim/blob/master/README.md), and though functional will need to be greatly simplified to be more usable and maintainable in practice."
   ]
  },
  {
   "cell_type": "code",
   "execution_count": null,
   "metadata": {},
   "outputs": [],
   "source": [
    "from datetime import datetime, timedelta\n",
    "import os\n",
    "import glob\n",
    "\n",
    "import param\n",
    "import paramnb\n",
    "import numpy as np\n",
    "import xarray as xr\n",
    "import geoviews as gv\n",
    "import holoviews as hv\n",
    "import quest\n",
    "import earthsim.gssha as esgssha\n",
    "import earthsim.gssha.model as models\n",
    "import cartopy.crs as ccrs\n",
    "\n",
    "from earthsim.gssha import download_data, get_file_from_quest\n",
    "from holoviews.streams import (PolyEdit, BoxEdit, PointDraw, CDSStream)\n",
    "from holoviews.operation.datashader import regrid, shade\n",
    "from earthsim.io import save_shapefile, open_gssha, get_ccrs\n",
    "\n",
    "regrid.aggregator = 'max'\n",
    "\n",
    "hv.extension('bokeh')\n",
    "%output holomap='scrubber' fps=2"
   ]
  },
  {
   "cell_type": "code",
   "execution_count": 2,
   "metadata": {},
   "outputs": [
    {
     "name": "stdout",
     "output_type": "stream",
     "text": [
      "rm: ./vicksburg_south/: No such file or directory\r\n"
     ]
    }
   ],
   "source": [
    "rm -r ./vicksburg_south/"
   ]
  },
  {
   "cell_type": "markdown",
   "metadata": {},
   "source": [
    "## Configure model parameters"
   ]
  },
  {
   "cell_type": "code",
   "execution_count": 11,
   "metadata": {},
   "outputs": [
    {
     "data": {
      "application/javascript": [
       "\n",
       "define('activehtml', [\"jupyter-js-widgets\"], function(widgets) {\n",
       "    var ActiveHTMLView = widgets.HTMLView.extend({\n",
       "        update: function() {\n",
       "            $(this.el).html(this.model.get('value'));\n",
       "        }\n",
       "    });\n",
       "    return {\n",
       "        ActiveHTMLView: ActiveHTMLView\n",
       "    };\n",
       "});\n"
      ],
      "text/plain": [
       "<IPython.core.display.Javascript object>"
      ]
     },
     "metadata": {},
     "output_type": "display_data"
    },
    {
     "data": {
      "application/vnd.jupyter.widget-view+json": {
       "model_id": "72bc11eef9c7484ab4c50ce35f234699",
       "version_major": 2,
       "version_minor": 0
      },
      "text/html": [
       "<p>Failed to display Jupyter Widget of type <code>VBox</code>.</p>\n",
       "<p>\n",
       "  If you're reading this message in Jupyter Notebook or JupyterLab, it may mean\n",
       "  that the widgets JavaScript is still loading. If this message persists, it\n",
       "  likely means that the widgets JavaScript library is either not installed or\n",
       "  not enabled. See the <a href=\"https://ipywidgets.readthedocs.io/en/stable/user_install.html\">Jupyter\n",
       "  Widgets Documentation</a> for setup instructions.\n",
       "</p>\n",
       "<p>\n",
       "  If you're reading this message in another notebook frontend (for example, a static\n",
       "  rendering on GitHub or <a href=\"https://nbviewer.jupyter.org/\">NBViewer</a>),\n",
       "  it may mean that your frontend doesn't currently support widgets.\n",
       "</p>\n"
      ],
      "text/plain": [
       "VBox(children=(HTML(value='\\n        <style>\\n          .widget-dropdown .dropdown-menu { width: 100% }\\n          .widget-select-multiple select { min-height: 100px; min-width: 300px;}\\n        </style>\\n        <div class=\"ttip\"><b>Vicksburg South Model Creator</b></div>'), HBox(children=(HTML(value='<div title=\"\\n       Base directory to which name will be appended to write GSSHA project files to.\" style=\"padding: 5px; width: 225px;\\n                      text-align: right;\">project_base_directory</div>'), Text(value='/Users/philippjfr/development/EarthSim/examples/user_guide', continuous_update=False))), HBox(children=(HTML(value='<div title=\"Name of GSSHA project. Required for new model.\" style=\"padding: 5px; width: 225px;\\n                      text-align: right;\">project_name</div>'), Text(value='vicksburg_south', continuous_update=False))), HBox(children=(HTML(value='<div title=\"\\n        Specify roughness something something\" style=\"padding: 5px; width: 225px;\\n                      text-align: right;\">roughness</div>'), DropdownWithEdit())), HBox(children=(HTML(value='<div title=\"\\n       Path to watershed boundary shapefile. Required for new model. Typically a *.shp file.\" style=\"padding: 5px; width: 225px;\\n                      text-align: right;\">mask_shapefile</div>'), VBox(children=(Text(value='./vicksburg_watershed/*.shp'), DropdownWithEdit()), layout=Layout(margin='0')))), HBox(children=(HTML(value='<div title=\"\" style=\"padding: 5px; width: 225px;\\n                      text-align: right;\">grid_cell_size</div>'), FloatText(value=90.0))), HBox(children=(HTML(value='<div title=\"\\n       Path to elevation raster used for GSSHA grid. Required for new model. Typically an *.ele file.\" style=\"padding: 5px; width: 225px;\\n                      text-align: right;\">elevation_grid_path</div>'), VBox(children=(Text(value=''), DropdownWithEdit()), layout=Layout(margin='0')))), HBox(children=(HTML(value='<div title=\"\\n       Frequency of writing to hydrograph (minutes). Sets HYD_FREQ card. Required for new model.\" style=\"padding: 5px; width: 225px;\\n                      text-align: right;\">out_hydrograph_write_frequency</div>'), FloatSlider(value=10.0, continuous_update=False, max=60.0, min=1.0)))), layout=Layout(display='flex', flex_flow='column'))"
      ]
     },
     "metadata": {},
     "output_type": "display_data"
    }
   ],
   "source": [
    "model_creator = esgssha.CreateGSSHModel(name='Vicksburg South Model Creator',\n",
    "                                        mask_shapefile='../data/vicksburg_watershed/watershed_boundary.shp',\n",
    "                                        grid_cell_size=90)\n",
    "paramnb.Widgets(model_creator,initializer=paramnb.JSONInit())"
   ]
  },
  {
   "cell_type": "markdown",
   "metadata": {},
   "source": [
    "## Draw bounds to compute watershed"
   ]
  },
  {
   "cell_type": "markdown",
   "metadata": {},
   "source": [
    "Allows drawing a bounding box and adding points to serve as input to compute a watershed:"
   ]
  },
  {
   "cell_type": "code",
   "execution_count": 12,
   "metadata": {},
   "outputs": [
    {
     "data": {
      "text/html": [
       "<div style='display: table; margin: 0 auto;'>\n",
       "\n",
       "<div class=\"bk-root\">\n",
       "    <div class=\"bk-plotdiv\" id=\"008c42e7-84a7-4c01-981d-dbfcf4af84e6\"></div>\n",
       "</div>\n",
       "<script type=\"text/javascript\">\n",
       "  (function(root) {\n",
       "  function embed_document(root) {\n",
       "    \n",
       "  var docs_json = {\"06226db5-f689-4b25-9a66-8b355a01f071\":{\"roots\":{\"references\":[{\"attributes\":{},\"id\":\"438b5fd4-b9cd-441a-89d6-9d789a33007a\",\"type\":\"ResetTool\"},{\"attributes\":{\"source\":{\"id\":\"3a1e6ffa-4b36-4a62-93ce-d0ba3d451109\",\"type\":\"ColumnDataSource\"}},\"id\":\"f8ede056-d279-43b3-be7b-5e023779c495\",\"type\":\"CDSView\"},{\"attributes\":{\"axis_label\":\"Latitude\",\"bounds\":\"auto\",\"formatter\":{\"id\":\"82f8473e-4a46-41be-b0ff-46f3abd6a4c0\",\"type\":\"MercatorTickFormatter\"},\"major_label_orientation\":\"horizontal\",\"plot\":{\"id\":\"3bf67164-93f6-4d0f-a7f4-1369f3422c20\",\"subtype\":\"Figure\",\"type\":\"Plot\"},\"ticker\":{\"id\":\"15d18cc5-d4e1-47d8-892d-100e6b4104af\",\"type\":\"MercatorTicker\"}},\"id\":\"a736a7b4-8ad8-41ce-b842-f4645878ec7f\",\"type\":\"LinearAxis\"},{\"attributes\":{},\"id\":\"27294c89-6388-4be7-a1cb-f550981b2918\",\"type\":\"LinearScale\"},{\"attributes\":{\"axis_label\":\"Longitude\",\"bounds\":\"auto\",\"formatter\":{\"id\":\"c7c0dabf-fca7-4c63-a2ed-99191ce573b0\",\"type\":\"MercatorTickFormatter\"},\"major_label_orientation\":\"horizontal\",\"plot\":{\"id\":\"3bf67164-93f6-4d0f-a7f4-1369f3422c20\",\"subtype\":\"Figure\",\"type\":\"Plot\"},\"ticker\":{\"id\":\"21ce854f-7bf1-43e0-b355-f29afeca95a5\",\"type\":\"MercatorTicker\"}},\"id\":\"1b0932e0-72ef-4a90-bbe7-305a9705fc28\",\"type\":\"LinearAxis\"},{\"attributes\":{},\"id\":\"ea138557-046b-4bec-8328-2df2ef28d395\",\"type\":\"BasicTicker\"},{\"attributes\":{\"dimension\":\"lon\"},\"id\":\"c7c0dabf-fca7-4c63-a2ed-99191ce573b0\",\"type\":\"MercatorTickFormatter\"},{\"attributes\":{\"url\":\"http://c.tile.openstreetmap.org/{Z}/{X}/{Y}.png\"},\"id\":\"4cd74e96-cd20-4410-b933-7035056b4fa1\",\"type\":\"WMTSTileSource\"},{\"attributes\":{\"args\":{\"rect_source\":{\"id\":\"f1f1166a-f3f1-4550-8ab6-687957a8582b\",\"type\":\"ColumnDataSource\"}},\"code\":\"var data = {};\\nif ((rect_source != undefined)) { data[\\\"data\\\"] = {id: rect_source[\\\"id\\\"], value: rect_source[\\\"data\\\"]};\\n }\\n        function unique_events(events) {\\n            // Processes the event queue ignoring duplicate events\\n            // of the same type\\n            var unique = [];\\n            var unique_events = [];\\n            for (var i=0; i<events.length; i++) {\\n                var _tmpevent = events[i];\\n                event = _tmpevent[0];\\n                data = _tmpevent[1];\\n                if (unique_events.indexOf(event)===-1) {\\n                    unique.unshift(data);\\n                    unique_events.push(event);\\n                }\\n            }\\n            return unique;\\n        }\\n\\n        function process_events(comm_state) {\\n            // Iterates over event queue and sends events via Comm\\n            var events = unique_events(comm_state.event_buffer);\\n            for (var i=0; i<events.length; i++) {\\n                var data = events[i];\\n                var comm = HoloViewsWidget.comms[data[\\\"comm_id\\\"]];\\n                comm.send(data);\\n            }\\n            comm_state.event_buffer = [];\\n        }\\n\\n        function on_msg(msg){\\n          // Receives acknowledgement from Python, processing event\\n          // and unblocking Comm if event queue empty\\n          msg = JSON.parse(msg.content.data);\\n          var comm_id = msg[\\\"comm_id\\\"]\\n          var comm_state = HoloViewsWidget.comm_state[comm_id];\\n          if (comm_state.event_buffer.length) {\\n            process_events(comm_state);\\n            comm_state.blocked = true;\\n            comm_state.time = Date.now()+20;\\n          } else {\\n            comm_state.blocked = false;\\n          }\\n          comm_state.event_buffer = [];\\n          if ((msg.msg_type == \\\"Ready\\\") && msg.content) {\\n            console.log(\\\"Python callback returned following output:\\\", msg.content);\\n          } else if (msg.msg_type == \\\"Error\\\") {\\n            console.log(\\\"Python failed with the following traceback:\\\", msg['traceback'])\\n          }\\n        }\\n\\n        // Initialize Comm\\n        if ((window.Jupyter !== undefined) && (Jupyter.notebook.kernel != null)) {\\n          var comm_manager = Jupyter.notebook.kernel.comm_manager;\\n          var comm = HoloViewsWidget.comms[\\\"d779fd987bc04bf6a9d27bb59f0a9ebf\\\"];\\n          if (comm == null) {\\n            comm = comm_manager.new_comm(\\\"d779fd987bc04bf6a9d27bb59f0a9ebf\\\", {}, {}, {});\\n            comm.on_msg(on_msg);\\n            comm_manager[\\\"d779fd987bc04bf6a9d27bb59f0a9ebf\\\"] = comm;\\n            HoloViewsWidget.comms[\\\"d779fd987bc04bf6a9d27bb59f0a9ebf\\\"] = comm;\\n          }\\n        } else {\\n          return\\n        }\\n\\n        // Initialize event queue and timeouts for Comm\\n        var comm_state = HoloViewsWidget.comm_state[\\\"d779fd987bc04bf6a9d27bb59f0a9ebf\\\"];\\n        if (comm_state === undefined) {\\n            comm_state = {event_buffer: [], blocked: false, time: Date.now()}\\n            HoloViewsWidget.comm_state[\\\"d779fd987bc04bf6a9d27bb59f0a9ebf\\\"] = comm_state\\n        }\\n\\n        // Add current event to queue and process queue if not blocked\\n        event_name = cb_obj.event_name\\n        data['comm_id'] = \\\"d779fd987bc04bf6a9d27bb59f0a9ebf\\\";\\n        timeout = comm_state.time + 20000;\\n        if ((window.Jupyter == null) | (Jupyter.notebook.kernel == null)) {\\n        } else if ((comm_state.blocked && (Date.now() < timeout))) {\\n            comm_state.event_buffer.unshift([event_name, data]);\\n        } else {\\n            comm_state.event_buffer.unshift([event_name, data]);\\n            setTimeout(function() { process_events(comm_state); }, 20);\\n            comm_state.blocked = true;\\n            comm_state.time = Date.now()+20;\\n        }\\n    \"},\"id\":\"284c50a9-8bba-4933-8af1-e9a70a88b927\",\"type\":\"CustomJS\"},{\"attributes\":{\"fill_color\":{\"value\":\"#FF0000\"},\"line_color\":{\"value\":\"#FF0000\"},\"size\":{\"units\":\"screen\",\"value\":10},\"x\":{\"field\":\"x\"},\"y\":{\"field\":\"y\"}},\"id\":\"de201e7f-a7b1-4457-a28f-33b709569093\",\"type\":\"Circle\"},{\"attributes\":{\"args\":{\"source\":{\"id\":\"3a1e6ffa-4b36-4a62-93ce-d0ba3d451109\",\"type\":\"ColumnDataSource\"}},\"code\":\"var data = {};\\nif ((source != undefined)) { data[\\\"data\\\"] = {id: source[\\\"id\\\"], value: source[\\\"data\\\"]};\\n }\\n        function unique_events(events) {\\n            // Processes the event queue ignoring duplicate events\\n            // of the same type\\n            var unique = [];\\n            var unique_events = [];\\n            for (var i=0; i<events.length; i++) {\\n                var _tmpevent = events[i];\\n                event = _tmpevent[0];\\n                data = _tmpevent[1];\\n                if (unique_events.indexOf(event)===-1) {\\n                    unique.unshift(data);\\n                    unique_events.push(event);\\n                }\\n            }\\n            return unique;\\n        }\\n\\n        function process_events(comm_state) {\\n            // Iterates over event queue and sends events via Comm\\n            var events = unique_events(comm_state.event_buffer);\\n            for (var i=0; i<events.length; i++) {\\n                var data = events[i];\\n                var comm = HoloViewsWidget.comms[data[\\\"comm_id\\\"]];\\n                comm.send(data);\\n            }\\n            comm_state.event_buffer = [];\\n        }\\n\\n        function on_msg(msg){\\n          // Receives acknowledgement from Python, processing event\\n          // and unblocking Comm if event queue empty\\n          msg = JSON.parse(msg.content.data);\\n          var comm_id = msg[\\\"comm_id\\\"]\\n          var comm_state = HoloViewsWidget.comm_state[comm_id];\\n          if (comm_state.event_buffer.length) {\\n            process_events(comm_state);\\n            comm_state.blocked = true;\\n            comm_state.time = Date.now()+20;\\n          } else {\\n            comm_state.blocked = false;\\n          }\\n          comm_state.event_buffer = [];\\n          if ((msg.msg_type == \\\"Ready\\\") && msg.content) {\\n            console.log(\\\"Python callback returned following output:\\\", msg.content);\\n          } else if (msg.msg_type == \\\"Error\\\") {\\n            console.log(\\\"Python failed with the following traceback:\\\", msg['traceback'])\\n          }\\n        }\\n\\n        // Initialize Comm\\n        if ((window.Jupyter !== undefined) && (Jupyter.notebook.kernel != null)) {\\n          var comm_manager = Jupyter.notebook.kernel.comm_manager;\\n          var comm = HoloViewsWidget.comms[\\\"e9491c793c974a7e888d93b4c7fbf858\\\"];\\n          if (comm == null) {\\n            comm = comm_manager.new_comm(\\\"e9491c793c974a7e888d93b4c7fbf858\\\", {}, {}, {});\\n            comm.on_msg(on_msg);\\n            comm_manager[\\\"e9491c793c974a7e888d93b4c7fbf858\\\"] = comm;\\n            HoloViewsWidget.comms[\\\"e9491c793c974a7e888d93b4c7fbf858\\\"] = comm;\\n          }\\n        } else {\\n          return\\n        }\\n\\n        // Initialize event queue and timeouts for Comm\\n        var comm_state = HoloViewsWidget.comm_state[\\\"e9491c793c974a7e888d93b4c7fbf858\\\"];\\n        if (comm_state === undefined) {\\n            comm_state = {event_buffer: [], blocked: false, time: Date.now()}\\n            HoloViewsWidget.comm_state[\\\"e9491c793c974a7e888d93b4c7fbf858\\\"] = comm_state\\n        }\\n\\n        // Add current event to queue and process queue if not blocked\\n        event_name = cb_obj.event_name\\n        data['comm_id'] = \\\"e9491c793c974a7e888d93b4c7fbf858\\\";\\n        timeout = comm_state.time + 20000;\\n        if ((window.Jupyter == null) | (Jupyter.notebook.kernel == null)) {\\n        } else if ((comm_state.blocked && (Date.now() < timeout))) {\\n            comm_state.event_buffer.unshift([event_name, data]);\\n        } else {\\n            comm_state.event_buffer.unshift([event_name, data]);\\n            setTimeout(function() { process_events(comm_state); }, 20);\\n            comm_state.blocked = true;\\n            comm_state.time = Date.now()+20;\\n        }\\n    \"},\"id\":\"06e4ac3a-df08-4f86-8073-e1e045ca2e19\",\"type\":\"CustomJS\"},{\"attributes\":{\"callback\":null,\"column_names\":[\"x\",\"height\",\"y\",\"width\"],\"data\":{\"height\":[],\"width\":[],\"x\":[],\"y\":[]},\"js_property_callbacks\":{\"change:data\":[{\"id\":\"284c50a9-8bba-4933-8af1-e9a70a88b927\",\"type\":\"CustomJS\"}]}},\"id\":\"f1f1166a-f3f1-4550-8ab6-687957a8582b\",\"type\":\"ColumnDataSource\"},{\"attributes\":{\"fill_alpha\":{\"value\":0},\"fill_color\":{\"value\":\"#30a2da\"},\"height\":{\"field\":\"height\",\"units\":\"data\"},\"width\":{\"field\":\"width\",\"units\":\"data\"},\"x\":{\"field\":\"x\"},\"y\":{\"field\":\"y\"}},\"id\":\"5d67a38c-a91a-4882-a795-091c329a133b\",\"type\":\"Rect\"},{\"attributes\":{\"below\":[{\"id\":\"1b0932e0-72ef-4a90-bbe7-305a9705fc28\",\"type\":\"LinearAxis\"}],\"left\":[{\"id\":\"a736a7b4-8ad8-41ce-b842-f4645878ec7f\",\"type\":\"LinearAxis\"}],\"min_border_bottom\":10,\"min_border_left\":10,\"min_border_right\":10,\"min_border_top\":10,\"plot_height\":500,\"plot_width\":900,\"renderers\":[{\"id\":\"1b0932e0-72ef-4a90-bbe7-305a9705fc28\",\"type\":\"LinearAxis\"},{\"id\":\"ac087fd7-fda9-4247-a7ec-ac60afaeb4f0\",\"type\":\"Grid\"},{\"id\":\"a736a7b4-8ad8-41ce-b842-f4645878ec7f\",\"type\":\"LinearAxis\"},{\"id\":\"0f95e3de-a9dd-4379-906e-bb7c032d5ecc\",\"type\":\"Grid\"},{\"id\":\"4bcec4a2-cc64-4f7d-a02e-e757821bedd0\",\"type\":\"BoxAnnotation\"},{\"id\":\"342036ad-edc6-4001-945f-ba775f4a9924\",\"type\":\"TileRenderer\"},{\"id\":\"83e099c4-23ed-4eff-b16c-f2ac6c406b66\",\"type\":\"GlyphRenderer\"},{\"id\":\"f4d6971d-9f2d-4ea8-8921-e5c5f8a5165c\",\"type\":\"GlyphRenderer\"}],\"title\":{\"id\":\"0804161b-78e9-4974-8ea0-cd379eec9edc\",\"type\":\"Title\"},\"toolbar\":{\"id\":\"cc2ede9e-b246-4dc8-bb6b-e577fb22e409\",\"type\":\"Toolbar\"},\"x_range\":{\"id\":\"e0b0125d-2b99-4ae1-90c8-96a42f347bf6\",\"type\":\"Range1d\"},\"x_scale\":{\"id\":\"27294c89-6388-4be7-a1cb-f550981b2918\",\"type\":\"LinearScale\"},\"y_range\":{\"id\":\"d46cd939-bc53-4db4-80a3-38086108f876\",\"type\":\"Range1d\"},\"y_scale\":{\"id\":\"22c3a7ca-8cb4-4dba-ab14-355e626fe15b\",\"type\":\"LinearScale\"}},\"id\":\"3bf67164-93f6-4d0f-a7f4-1369f3422c20\",\"subtype\":\"Figure\",\"type\":\"Plot\"},{\"attributes\":{\"data_source\":{\"id\":\"3a1e6ffa-4b36-4a62-93ce-d0ba3d451109\",\"type\":\"ColumnDataSource\"},\"glyph\":{\"id\":\"de201e7f-a7b1-4457-a28f-33b709569093\",\"type\":\"Circle\"},\"hover_glyph\":null,\"muted_glyph\":{\"id\":\"d3ae2fc2-8290-4103-aedf-624b7cdf74d3\",\"type\":\"Circle\"},\"nonselection_glyph\":{\"id\":\"0ff6d381-2677-450a-b155-d7b46b19df22\",\"type\":\"Circle\"},\"selection_glyph\":null,\"view\":{\"id\":\"f8ede056-d279-43b3-be7b-5e023779c495\",\"type\":\"CDSView\"}},\"id\":\"f4d6971d-9f2d-4ea8-8921-e5c5f8a5165c\",\"type\":\"GlyphRenderer\"},{\"attributes\":{\"fill_alpha\":{\"value\":0.2},\"fill_color\":{\"value\":\"#FF0000\"},\"line_alpha\":{\"value\":0.2},\"line_color\":{\"value\":\"#FF0000\"},\"size\":{\"units\":\"screen\",\"value\":10},\"x\":{\"field\":\"x\"},\"y\":{\"field\":\"y\"}},\"id\":\"d3ae2fc2-8290-4103-aedf-624b7cdf74d3\",\"type\":\"Circle\"},{\"attributes\":{\"callback\":null,\"end\":-10107809.875348726,\"start\":-10130073.550868405},\"id\":\"e0b0125d-2b99-4ae1-90c8-96a42f347bf6\",\"type\":\"Range1d\"},{\"attributes\":{\"source\":{\"id\":\"f1f1166a-f3f1-4550-8ab6-687957a8582b\",\"type\":\"ColumnDataSource\"}},\"id\":\"98e9e69c-af5d-4157-9976-1645a9955cbf\",\"type\":\"CDSView\"},{\"attributes\":{\"callback\":null,\"end\":3815932.0009413,\"start\":3789592.5934560597},\"id\":\"d46cd939-bc53-4db4-80a3-38086108f876\",\"type\":\"Range1d\"},{\"attributes\":{\"empty_value\":null,\"renderers\":[{\"id\":\"f4d6971d-9f2d-4ea8-8921-e5c5f8a5165c\",\"type\":\"GlyphRenderer\"}]},\"id\":\"244c0c74-f836-4baf-8893-044d7656ef63\",\"type\":\"PointDrawTool\"},{\"attributes\":{\"bottom_units\":\"screen\",\"fill_alpha\":{\"value\":0.5},\"fill_color\":{\"value\":\"lightgrey\"},\"left_units\":\"screen\",\"level\":\"overlay\",\"line_alpha\":{\"value\":1.0},\"line_color\":{\"value\":\"black\"},\"line_dash\":[4,4],\"line_width\":{\"value\":2},\"plot\":null,\"render_mode\":\"css\",\"right_units\":\"screen\",\"top_units\":\"screen\"},\"id\":\"4bcec4a2-cc64-4f7d-a02e-e757821bedd0\",\"type\":\"BoxAnnotation\"},{\"attributes\":{\"data_source\":{\"id\":\"f1f1166a-f3f1-4550-8ab6-687957a8582b\",\"type\":\"ColumnDataSource\"},\"glyph\":{\"id\":\"5d67a38c-a91a-4882-a795-091c329a133b\",\"type\":\"Rect\"},\"hover_glyph\":null,\"muted_glyph\":{\"id\":\"c347825b-561d-4608-aa7c-89cdd4d0dc84\",\"type\":\"Rect\"},\"nonselection_glyph\":{\"id\":\"fe9ecac2-bd16-4a6b-b31a-1bebc11e88f3\",\"type\":\"Rect\"},\"selection_glyph\":null,\"view\":{\"id\":\"98e9e69c-af5d-4157-9976-1645a9955cbf\",\"type\":\"CDSView\"}},\"id\":\"83e099c4-23ed-4eff-b16c-f2ac6c406b66\",\"type\":\"GlyphRenderer\"},{\"attributes\":{\"plot\":null,\"text\":\"\",\"text_color\":{\"value\":\"black\"},\"text_font_size\":{\"value\":\"12pt\"}},\"id\":\"0804161b-78e9-4974-8ea0-cd379eec9edc\",\"type\":\"Title\"},{\"attributes\":{},\"id\":\"3900f164-6244-4406-b23f-3fbe075c99a7\",\"type\":\"WheelZoomTool\"},{\"attributes\":{\"renderers\":[{\"id\":\"83e099c4-23ed-4eff-b16c-f2ac6c406b66\",\"type\":\"GlyphRenderer\"}]},\"id\":\"23d3fc91-61dc-4e78-82cb-484c7abe1ac3\",\"type\":\"BoxEditTool\"},{\"attributes\":{\"active_drag\":\"auto\",\"active_inspect\":\"auto\",\"active_scroll\":\"auto\",\"active_tap\":\"auto\",\"tools\":[{\"id\":\"1c3b74f6-c6fc-4c57-851c-68a3199d6a00\",\"type\":\"BoxZoomTool\"},{\"id\":\"7ce47cef-6bce-40d5-ab43-02c3c8282e09\",\"type\":\"SaveTool\"},{\"id\":\"eab795d6-3c8d-481c-90a2-ebf5022f132f\",\"type\":\"PanTool\"},{\"id\":\"3900f164-6244-4406-b23f-3fbe075c99a7\",\"type\":\"WheelZoomTool\"},{\"id\":\"438b5fd4-b9cd-441a-89d6-9d789a33007a\",\"type\":\"ResetTool\"},{\"id\":\"23d3fc91-61dc-4e78-82cb-484c7abe1ac3\",\"type\":\"BoxEditTool\"},{\"id\":\"244c0c74-f836-4baf-8893-044d7656ef63\",\"type\":\"PointDrawTool\"}]},\"id\":\"cc2ede9e-b246-4dc8-bb6b-e577fb22e409\",\"type\":\"Toolbar\"},{\"attributes\":{\"dimension\":\"lat\"},\"id\":\"82f8473e-4a46-41be-b0ff-46f3abd6a4c0\",\"type\":\"MercatorTickFormatter\"},{\"attributes\":{\"dimension\":\"lat\"},\"id\":\"15d18cc5-d4e1-47d8-892d-100e6b4104af\",\"type\":\"MercatorTicker\"},{\"attributes\":{},\"id\":\"22c3a7ca-8cb4-4dba-ab14-355e626fe15b\",\"type\":\"LinearScale\"},{\"attributes\":{\"tile_source\":{\"id\":\"4cd74e96-cd20-4410-b933-7035056b4fa1\",\"type\":\"WMTSTileSource\"}},\"id\":\"342036ad-edc6-4001-945f-ba775f4a9924\",\"type\":\"TileRenderer\"},{\"attributes\":{\"grid_line_color\":{\"value\":null},\"plot\":{\"id\":\"3bf67164-93f6-4d0f-a7f4-1369f3422c20\",\"subtype\":\"Figure\",\"type\":\"Plot\"},\"ticker\":{\"id\":\"ea138557-046b-4bec-8328-2df2ef28d395\",\"type\":\"BasicTicker\"}},\"id\":\"ac087fd7-fda9-4247-a7ec-ac60afaeb4f0\",\"type\":\"Grid\"},{\"attributes\":{\"dimension\":1,\"grid_line_color\":{\"value\":null},\"plot\":{\"id\":\"3bf67164-93f6-4d0f-a7f4-1369f3422c20\",\"subtype\":\"Figure\",\"type\":\"Plot\"},\"ticker\":{\"id\":\"185a0d40-ac17-4879-b867-853a0f5f9822\",\"type\":\"BasicTicker\"}},\"id\":\"0f95e3de-a9dd-4379-906e-bb7c032d5ecc\",\"type\":\"Grid\"},{\"attributes\":{\"callback\":null,\"column_names\":[\"x\",\"y\"],\"data\":{\"x\":[],\"y\":[]},\"js_property_callbacks\":{\"change:data\":[{\"id\":\"06e4ac3a-df08-4f86-8073-e1e045ca2e19\",\"type\":\"CustomJS\"}]}},\"id\":\"3a1e6ffa-4b36-4a62-93ce-d0ba3d451109\",\"type\":\"ColumnDataSource\"},{\"attributes\":{},\"id\":\"185a0d40-ac17-4879-b867-853a0f5f9822\",\"type\":\"BasicTicker\"},{\"attributes\":{\"fill_alpha\":{\"value\":0.2},\"fill_color\":{\"value\":\"#1f77b4\"},\"height\":{\"field\":\"height\",\"units\":\"data\"},\"line_alpha\":{\"value\":0.2},\"line_color\":{\"value\":\"#1f77b4\"},\"width\":{\"field\":\"width\",\"units\":\"data\"},\"x\":{\"field\":\"x\"},\"y\":{\"field\":\"y\"}},\"id\":\"c347825b-561d-4608-aa7c-89cdd4d0dc84\",\"type\":\"Rect\"},{\"attributes\":{\"dimension\":\"lon\"},\"id\":\"21ce854f-7bf1-43e0-b355-f29afeca95a5\",\"type\":\"MercatorTicker\"},{\"attributes\":{\"match_aspect\":true,\"overlay\":{\"id\":\"4bcec4a2-cc64-4f7d-a02e-e757821bedd0\",\"type\":\"BoxAnnotation\"}},\"id\":\"1c3b74f6-c6fc-4c57-851c-68a3199d6a00\",\"type\":\"BoxZoomTool\"},{\"attributes\":{},\"id\":\"eab795d6-3c8d-481c-90a2-ebf5022f132f\",\"type\":\"PanTool\"},{\"attributes\":{\"fill_alpha\":{\"value\":0.1},\"fill_color\":{\"value\":\"#1f77b4\"},\"height\":{\"field\":\"height\",\"units\":\"data\"},\"line_alpha\":{\"value\":0.1},\"line_color\":{\"value\":\"#1f77b4\"},\"width\":{\"field\":\"width\",\"units\":\"data\"},\"x\":{\"field\":\"x\"},\"y\":{\"field\":\"y\"}},\"id\":\"fe9ecac2-bd16-4a6b-b31a-1bebc11e88f3\",\"type\":\"Rect\"},{\"attributes\":{},\"id\":\"7ce47cef-6bce-40d5-ab43-02c3c8282e09\",\"type\":\"SaveTool\"},{\"attributes\":{\"fill_alpha\":{\"value\":0.1},\"fill_color\":{\"value\":\"#FF0000\"},\"line_alpha\":{\"value\":0.1},\"line_color\":{\"value\":\"#FF0000\"},\"size\":{\"units\":\"screen\",\"value\":10},\"x\":{\"field\":\"x\"},\"y\":{\"field\":\"y\"}},\"id\":\"0ff6d381-2677-450a-b155-d7b46b19df22\",\"type\":\"Circle\"}],\"root_ids\":[\"3bf67164-93f6-4d0f-a7f4-1369f3422c20\"]},\"title\":\"Bokeh Application\",\"version\":\"0.12.14dev7\"}};\n",
       "  var render_items = [{\"docid\":\"06226db5-f689-4b25-9a66-8b355a01f071\",\"elementid\":\"008c42e7-84a7-4c01-981d-dbfcf4af84e6\",\"modelid\":\"3bf67164-93f6-4d0f-a7f4-1369f3422c20\"}];\n",
       "  root.Bokeh.embed.embed_items_notebook(docs_json, render_items);\n",
       "\n",
       "  }\n",
       "  if (root.Bokeh !== undefined) {\n",
       "    embed_document(root);\n",
       "  } else {\n",
       "    var attempts = 0;\n",
       "    var timer = setInterval(function(root) {\n",
       "      if (root.Bokeh !== undefined) {\n",
       "        embed_document(root);\n",
       "        clearInterval(timer);\n",
       "      }\n",
       "      attempts++;\n",
       "      if (attempts > 100) {\n",
       "        console.log(\"Bokeh: ERROR: Unable to run BokehJS code because BokehJS library is missing\")\n",
       "        clearInterval(timer);\n",
       "      }\n",
       "    }, 10, root)\n",
       "  }\n",
       "})(window);\n",
       "</script>\n",
       "</div>"
      ],
      "text/plain": [
       ":Overlay\n",
       "   .WMTS.I     :WMTS   [Longitude,Latitude]\n",
       "   .Polygons.I :Polygons   [x,y]\n",
       "   .Points.I   :Points   [x,y]"
      ]
     },
     "execution_count": 12,
     "metadata": {},
     "output_type": "execute_result"
    }
   ],
   "source": [
    "%%opts Polygons [width=900 height=500] (fill_alpha=0 line_color='black')\n",
    "%%opts Points (size=10 color='red')\n",
    "tiles = gv.WMTS('http://c.tile.openstreetmap.org/{Z}/{X}/{Y}.png',\n",
    "                crs=ccrs.PlateCarree(), extents=(-91, 32.2, -90.8, 32.4))\n",
    "box_poly = hv.Polygons([])\n",
    "points = hv.Points([])\n",
    "box_stream = BoxEdit(source=box_poly)\n",
    "point_stream = PointDraw(source=points)\n",
    "tiles * box_poly * points"
   ]
  },
  {
   "cell_type": "code",
   "execution_count": 13,
   "metadata": {},
   "outputs": [],
   "source": [
    "if box_stream.element:\n",
    "    element = gv.operation.project(box_stream.element, projection=ccrs.PlateCarree())\n",
    "    xs, ys = element.array().T\n",
    "    bounds = (xs[0], ys[1], xs[2], ys[0])\n",
    "    print(\"BOUNDS\", bounds)\n",
    "    \n",
    "if point_stream.element:\n",
    "    projected = gv.operation.project(point_stream.element, projection=ccrs.PlateCarree())\n",
    "    print(\"COORDINATE:\", projected.iloc[0]['x'][0], projected.iloc[0]['y'][0])"
   ]
  },
  {
   "cell_type": "markdown",
   "metadata": {},
   "source": [
    "## Inspect and edit shapefile"
   ]
  },
  {
   "cell_type": "markdown",
   "metadata": {},
   "source": [
    "The plot below allows editing the shapefile using a set of tools. The controls for editing are as follows:\n",
    "    \n",
    "* Double-clicking the polygon displays the vertices\n",
    "* After double-clicking the point tool is selected and vertices can be dragged around\n",
    "* By tapping on a vertex it can be selected, tapping in a new location while a single point is selected inserts a new vertex\n",
    "* Multiple points can be selected by holding shift and then tapping or using the box_select tool\n",
    "* Once multiple vertices are selected they can be deleted by selecting the point editing tool and pressing ``backspace``"
   ]
  },
  {
   "cell_type": "code",
   "execution_count": 14,
   "metadata": {},
   "outputs": [
    {
     "data": {
      "text/html": [
       "<div style='display: table; margin: 0 auto;'>\n",
       "\n",
       "<div class=\"bk-root\">\n",
       "    <div class=\"bk-plotdiv\" id=\"c6c0bd30-e81b-4e84-8153-d3eb938f6d97\"></div>\n",
       "</div>\n",
       "<script type=\"text/javascript\">\n",
       "  (function(root) {\n",
       "  function embed_document(root) {\n",
       "    \n",
       "  var docs_json = {\"375a17c9-6004-4290-a2bc-b88fbd607066\":{\"roots\":{\"references\":[{\"attributes\":{},\"id\":\"8bd716d5-b5aa-4ad5-8ffd-0e143f5b259a\",\"type\":\"WheelZoomTool\"},{\"attributes\":{\"bottom_units\":\"screen\",\"fill_alpha\":{\"value\":0.5},\"fill_color\":{\"value\":\"lightgrey\"},\"left_units\":\"screen\",\"level\":\"overlay\",\"line_alpha\":{\"value\":1.0},\"line_color\":{\"value\":\"black\"},\"line_dash\":[4,4],\"line_width\":{\"value\":2},\"plot\":null,\"render_mode\":\"css\",\"right_units\":\"screen\",\"top_units\":\"screen\"},\"id\":\"5a283bc8-c03f-4884-b603-3eadf7f38b1e\",\"type\":\"BoxAnnotation\"},{\"attributes\":{\"dimension\":1,\"grid_line_color\":{\"value\":null},\"plot\":{\"id\":\"e3aaccd9-d532-41eb-a59d-860859bfb3bf\",\"subtype\":\"Figure\",\"type\":\"Plot\"},\"ticker\":{\"id\":\"9e52fc39-d64d-46c1-a33a-fa421c04651d\",\"type\":\"BasicTicker\"}},\"id\":\"0ea96d58-8538-4ac1-99f2-b75c2c44c7c4\",\"type\":\"Grid\"},{\"attributes\":{\"dimension\":\"lon\"},\"id\":\"1be4dcfc-6986-45e5-b5ef-5d17ff7e9930\",\"type\":\"MercatorTickFormatter\"},{\"attributes\":{\"grid_line_color\":{\"value\":null},\"plot\":{\"id\":\"e3aaccd9-d532-41eb-a59d-860859bfb3bf\",\"subtype\":\"Figure\",\"type\":\"Plot\"},\"ticker\":{\"id\":\"61c45ec9-d3eb-4b8d-b9b6-53c8872b026a\",\"type\":\"BasicTicker\"}},\"id\":\"874b14c7-a9d7-44f3-9dac-35ffec2d7c4d\",\"type\":\"Grid\"},{\"attributes\":{},\"id\":\"9e52fc39-d64d-46c1-a33a-fa421c04651d\",\"type\":\"BasicTicker\"},{\"attributes\":{\"below\":[{\"id\":\"72e509e0-ef31-4d53-82cc-c1a808779834\",\"type\":\"LinearAxis\"}],\"left\":[{\"id\":\"7606f2de-6db8-4474-9d97-3cf20c7c89ac\",\"type\":\"LinearAxis\"}],\"min_border_bottom\":10,\"min_border_left\":10,\"min_border_right\":10,\"min_border_top\":10,\"plot_height\":500,\"plot_width\":900,\"renderers\":[{\"id\":\"72e509e0-ef31-4d53-82cc-c1a808779834\",\"type\":\"LinearAxis\"},{\"id\":\"874b14c7-a9d7-44f3-9dac-35ffec2d7c4d\",\"type\":\"Grid\"},{\"id\":\"7606f2de-6db8-4474-9d97-3cf20c7c89ac\",\"type\":\"LinearAxis\"},{\"id\":\"0ea96d58-8538-4ac1-99f2-b75c2c44c7c4\",\"type\":\"Grid\"},{\"id\":\"f6f16099-ac2e-46d0-9e2c-05d7bc56cf3f\",\"type\":\"BoxAnnotation\"},{\"id\":\"5a283bc8-c03f-4884-b603-3eadf7f38b1e\",\"type\":\"BoxAnnotation\"},{\"id\":\"9ae4451f-f916-4eca-9751-8baf6f3cc813\",\"type\":\"TileRenderer\"},{\"id\":\"50b4f1da-416a-46db-864f-3380b5c7c034\",\"type\":\"GlyphRenderer\"},{\"id\":\"83702e12-9f73-4fe2-93bd-cc1f62c41357\",\"type\":\"GlyphRenderer\"}],\"title\":{\"id\":\"19d45d3e-95b7-4d5c-a52c-ed01a5dee1fb\",\"type\":\"Title\"},\"toolbar\":{\"id\":\"761f8772-7833-4720-a7fe-9cab7604a438\",\"type\":\"Toolbar\"},\"x_range\":{\"id\":\"6f066d63-d186-4525-a57a-90bd6f6acff1\",\"type\":\"Range1d\"},\"x_scale\":{\"id\":\"d5764dd1-8e36-43f5-ba40-6f35f15b913c\",\"type\":\"LinearScale\"},\"y_range\":{\"id\":\"74558eae-8616-4d90-b99f-f2c95138f6a3\",\"type\":\"Range1d\"},\"y_scale\":{\"id\":\"46f7a4a6-e7e2-490a-8858-2e9c6c64a7cc\",\"type\":\"LinearScale\"}},\"id\":\"e3aaccd9-d532-41eb-a59d-860859bfb3bf\",\"subtype\":\"Figure\",\"type\":\"Plot\"},{\"attributes\":{\"callback\":null,\"column_names\":[\"ys\",\"xs\"],\"data\":{\"xs\":[{\"__ndarray__\":\"v3+lLehHY8F4aBKW30djwd9Nn8q2R2PBafcUT6FHY8FK1bPTO0djwWpy09oIR2PBO7QqGPVGY8HYyA1OjEZjwcHdrTiRRmPBFP0GXsFGY8HnJkczy0ZjwTtGoFj7RmPBDHDgLQVHY8GI2NJNb0djwXHtcjh0R2PBlU0KGpJHY8GaHw5MykdjwTp7k8oYSGPB5e5bqytIY8H75DGh2UhjwacfPyZgSWPBdY40+ZxJY8E9ROnHwEljwRb7T82GSWPBgQRdQnVJY8ESVhI16EljwWSNgsL6SWPBoIJ1mIpJY8GBBF1CdUljwfTIbwK4SWPBOIRLvxBKY8FHiyDQgkpjwZPEKyW7SmPBr242S+RKY8HgVl4aL0tjwbHN7/t9S2PBmlaEspFLY8FqzRWU4EtjwXp7wwQXTGPBBfJ6fshMY8E66cHpOE1jwVpbBKxXTWPBnxbgaLBNY8GuxI3Z5k1jweyoEl4kTmPB+1bAzlpOY8E6O0VTmE5jwW8yjL4IT2PBrqFRg/5PY8E/FKtpG1BjwfszhHhyUGPBxcQ0RYtQY8FxhMpw71BjwRFXZzr/UGPBmM1jaylRY8E5oAA1OVFjwTj5uhmzUWPB7l8M8qtSY8H+Dbpi4lJjwQg2MewxU2PBQsmVHztTY8HMFi5A+VJjwSVXU10cU2PBK1gnJ6JTY8GMhCwlG1RjweWp8dEsVGPBMVeEN7JUY8ECzhUZAVVjwetWqs8UVWPBnlv57kRVY8GeW/nuRFVjwZb9NZsUVmPB05lN42FWY8FH3pe+a1ZjwUPuOKG4VmPBJSoLmixXY8GYcIX8ZldjwR439riIV2PBB0yWo41XY8HaMEWJFFhjwWRrZVrMWGPB4gqelxlZY8EsNyeTHlljwVT7pKI8WWPBUQXceHRZY8Eb/d+JbFpjwVoFUgqDWmPBv4nUXcdaY8GioadTCltjwbiDoGa6W2PBO8YMPvJbY8EsX2xWaFxjwbCh2C2gXGPBz0PwhuZcY8FGxoLPAF1jwbCh2C2gXGPBLF9sVmhcY8G1msTWGlxjwZc6wrQHXGPBLF9sVmhcY8FKrcEcrlxjwR996dTGXGPBMF8nn+9cY8F2auSiAV1jweFb7jEyXWPB2vkjCT5dY8EIpYcsbF1jwbS0kePHXWPB9rniX/hdY8EnkF3TdV5jwaUvlhDDXmPB8FsfDMheY8Gd8lAnwF5jwc5fx5FHXmPBWf/xvdVdY8EnF8ruil1jwQxtv8hhXWPB2YSX+RZdY8GMZ/ETylxjwZTJuzy+XGPBDgNLgJxcY8HN/fkDbFxjwXTe5ZW0W2PB5UZiJBBbY8HbuYCrzFpjwXFrljRiWmPBzLlP0TZZY8Fka2VazFhjwTOV6uZOWGPBvU5whBRYY8EATCASf1ZjwYsFpq9EVmPBjHBUItFVY8FJawOmoFVjwULJlR87U2PBLN41CkBTY8HCkz7mdFNjwSzeNQpAU2PBWrT1NDZTY8GB/Y4vcFNjwVMnzwR6U2PBqEYoKqpTY8GPW8gUr1NjwUpENX2mU2PBRZBHf3BTY8EJ7Rll0VJjwa4f0JK+UmPBEy4ICkdSY8ETe5toHVBjwSfJM2sPUGPBMCf3vj9PY8G74HxcBU9jweKUxMnLTmPBAeyAklxOY8HgIXVoeU1jwQzJ0bbjTGPB5384vKlMY8Hnfzi8qUxjwWC5x/+HTGPBILR2g1dMY8EVJ5UKFExjwYWPEZlvS2PBU7mWJfJKY8EQtEWpwUpjwQYnZDB+SmPBnth5uRNKY8GTS5hA0EljwaotsvxISWPBpTY9DURJY8Ffe2FQ60hjwVDNs9+0SGPBX/AgEDNIY8HkyD4oIkhjwXOBQAT0R2PBv3+lLehHY8E=\",\"dtype\":\"float64\",\"shape\":[175]}],\"ys\":[{\"__ndarray__\":\"SEvKEmkUTUHZNVG32hNNQXSRokzSEk1B5TCqcm4RTUGd5pAR5RBNQYEFLbGaD01BRP0UzBcNTUF5HnZe5wxNQZFwii81C01B1yVMqk8KTUFsxUht6wZNQe2G2vIFBk1BGhSGPbQDTUEPXRpvvAFNQbZrbnUKAE1Ber/C9OD/TEG/We2hIf9MQVp7jZ+0/kxBQ86XXJn2TEHfy2Z7PPZMQY2BlfFg+ExBCEUr7LP4TEHJg/QaXvdMQSm3nxPh9UxBaT2/LZ70TEGQVr6n/vNMQcGN9lZD70xBjPpTtqfuTEHXGpIXH+1MQUJw137C7ExBOZgZLZ3sTEH+ZpOvvOpMQa0zwBOL60xBHw1rttXrTEGmemifw+pMQWK5Ye9j6kxBBgQ9e6LnTEGbn33OQudMQYHxf2N75kxBCeA0xTDmTEE1vtBYV+RMQRdjgwoy5ExBQUNFvAzkTEFS0ElYReNMQdYOnrz64kxBP3D4WjPiTEFlXCzA6OFMQT6r9WkP4ExBAM/o0MTfTEFPnUTx2OFMQT9w+Foz4kxB/lvnu2rgTEHKS9yNV95MQVr6JRQR20xBgQjo5g/aTEHq/2uUydZMQQMtct1O1ExBNR8eEgDUTEEbIB3RONNMQbuyXGzY0kxBEq9X8+/QTEElVdceoNBMQZoR7nID0ExBH0KR/a/PTEGggmglOs1MQVw94ITCykxB5bxfXIfITEH63iHQJ8hMQW+Vv2NnxUxBkxZfHC3FTEGCcfjYCcNMQW1izAwhw0xBNHET+YvETEHWuFuq78dMQZ7Ma2ZcyUxBIK/q/orJTEFunJVOechMQfdSZxliyExBlBEewCTLTEGsblNco81MQVVhL+DRzUxBdnjHvTzPTEEmK+os3s9MQZrz15q1z0xBVAla+/TOTEH4LxbYo85MQTUVi+Z90UxBmspcTxHTTEEnrA5QKtJMQYz+8inZ0UxBni71hRjRTEEAKsxgx9BMQSxcDr8G0ExBmvPXmrXPTEEPngzbp9FMQSesDlAq0kxBrJxM9urSTEE0JL2ZU9NMQaNwVx3v1UxBNbVymHHWTEH4GRVaYtdMQSOfurj62ExBL+zlewLaTEHnNj+GqN9MQRqhZx3q30xBA/tYI8TgTEHonN4T/OBMQWq4Sk8T4UxBT/He0fbhTEGviTxJJeJMQSIOfXeQ40xBF2ODCjLkTEHgsbR15+ZMQT5Gqtpb6UxBEqeci7HpTEHAZgd7n+hMQU6P/NpU6ExB2tqx6mbpTEH8BQYxxOlMQSl0e06e6kxBvd5ajLXqTEEwuu4mmetMQXwwM6PH60xBRgAffc/uTEGlRQb7/e5MQVMuqcbz8ExBa82nRSLxTEGUSBIdGPNMQQdfKJ1G80xBsLi8zVj0TEF72xpNKvRMQZRIEh0Y80xBB18onUbzTEF72xpNKvRMQWnTaI1B9ExBN4z7TvP1TEEJekMU7/ZMQeeVQtzq90xBbBgrcQ36TEE6EYqhIftMQWwGC9Ng/ExB24gtNUb9TEHbBiPR5f1MQcLQRwp0/kxBS5r4utH/TEGfv49NPwBNQW67lsXPA01BX/GSkE0GTUFrU8KEowZNQbCQJhqLB01B/e9mX6IHTUHsqEXNtAhNQXuJPkKGCE1BA/AGiXkGTUFO+JUmqwpNQQHtomzCCk1BAe2ibMIKTUG2L5P4rwlNQdHmXz7HCU1BTviVJqsKTUGi1bWy2QpNQd1LWpXiDU1Bzn0fIxEOTUFWNBQW9Q5NQbXmZaQjD01BiL89IRoRTUEgiaiwSBFNQUH7R3rHE01BhTk4p3sVTUENZcdEVhVNQTKR2XSOFE1BKGXKsEMUTUGFOTinexVNQQT4cJZDFU1BSEvKEmkUTUE=\",\"dtype\":\"float64\",\"shape\":[175]}]},\"js_property_callbacks\":{\"change:data\":[{\"id\":\"d7906e60-7093-475f-b8b8-072541c09953\",\"type\":\"CustomJS\"}]}},\"id\":\"6c3e0aaf-0fc5-495d-97c3-0a3a20f0fdd4\",\"type\":\"ColumnDataSource\"},{\"attributes\":{\"axis_label\":\"Latitude\",\"bounds\":\"auto\",\"formatter\":{\"id\":\"1b3e4e7c-7599-483e-8c53-ae5e35e7e903\",\"type\":\"MercatorTickFormatter\"},\"major_label_orientation\":\"horizontal\",\"plot\":{\"id\":\"e3aaccd9-d532-41eb-a59d-860859bfb3bf\",\"subtype\":\"Figure\",\"type\":\"Plot\"},\"ticker\":{\"id\":\"ecb57586-b704-4cda-a012-0ae633983735\",\"type\":\"MercatorTicker\"}},\"id\":\"7606f2de-6db8-4474-9d97-3cf20c7c89ac\",\"type\":\"LinearAxis\"},{\"attributes\":{\"tile_source\":{\"id\":\"6974a671-67cf-40bc-a3b9-e77bcb4b8700\",\"type\":\"WMTSTileSource\"}},\"id\":\"9ae4451f-f916-4eca-9751-8baf6f3cc813\",\"type\":\"TileRenderer\"},{\"attributes\":{\"bottom_units\":\"screen\",\"fill_alpha\":{\"value\":0.5},\"fill_color\":{\"value\":\"lightgrey\"},\"left_units\":\"screen\",\"level\":\"overlay\",\"line_alpha\":{\"value\":1.0},\"line_color\":{\"value\":\"black\"},\"line_dash\":[4,4],\"line_width\":{\"value\":2},\"plot\":null,\"render_mode\":\"css\",\"right_units\":\"screen\",\"top_units\":\"screen\"},\"id\":\"f6f16099-ac2e-46d0-9e2c-05d7bc56cf3f\",\"type\":\"BoxAnnotation\"},{\"attributes\":{\"callback\":null,\"overlay\":{\"id\":\"5a283bc8-c03f-4884-b603-3eadf7f38b1e\",\"type\":\"BoxAnnotation\"},\"renderers\":[{\"id\":\"50b4f1da-416a-46db-864f-3380b5c7c034\",\"type\":\"GlyphRenderer\"},{\"id\":\"83702e12-9f73-4fe2-93bd-cc1f62c41357\",\"type\":\"GlyphRenderer\"}]},\"id\":\"20152e6c-30a4-46c9-9873-9d649431185c\",\"type\":\"BoxSelectTool\"},{\"attributes\":{\"dimension\":\"lat\"},\"id\":\"ecb57586-b704-4cda-a012-0ae633983735\",\"type\":\"MercatorTicker\"},{\"attributes\":{\"plot\":null,\"text\":\"\",\"text_color\":{\"value\":\"black\"},\"text_font_size\":{\"value\":\"12pt\"}},\"id\":\"19d45d3e-95b7-4d5c-a52c-ed01a5dee1fb\",\"type\":\"Title\"},{\"attributes\":{\"callback\":null,\"end\":-10105954.550502174,\"start\":-10155584.267508525},\"id\":\"6f066d63-d186-4525-a57a-90bd6f6acff1\",\"type\":\"Range1d\"},{\"attributes\":{\"fill_alpha\":{\"value\":0.1},\"fill_color\":{\"value\":\"#1f77b4\"},\"line_alpha\":{\"value\":0.1},\"line_color\":{\"value\":\"#1f77b4\"},\"size\":{\"units\":\"screen\",\"value\":10},\"x\":{\"field\":\"x\"},\"y\":{\"field\":\"y\"}},\"id\":\"a4187bce-d390-4f9b-abcd-acf353897677\",\"type\":\"Circle\"},{\"attributes\":{},\"id\":\"97c93bb9-7437-45ad-9ac6-455761d696ed\",\"type\":\"ResetTool\"},{\"attributes\":{\"match_aspect\":true,\"overlay\":{\"id\":\"f6f16099-ac2e-46d0-9e2c-05d7bc56cf3f\",\"type\":\"BoxAnnotation\"}},\"id\":\"0f1f2dbd-fee8-4835-a521-7b646b44f191\",\"type\":\"BoxZoomTool\"},{\"attributes\":{\"source\":{\"id\":\"6c3e0aaf-0fc5-495d-97c3-0a3a20f0fdd4\",\"type\":\"ColumnDataSource\"}},\"id\":\"8cb5f439-63ab-44cb-ad88-afe6c4bf1913\",\"type\":\"CDSView\"},{\"attributes\":{},\"id\":\"119bd433-24a8-42da-b844-b7555d1a90a3\",\"type\":\"PanTool\"},{\"attributes\":{\"axis_label\":\"Longitude\",\"bounds\":\"auto\",\"formatter\":{\"id\":\"1be4dcfc-6986-45e5-b5ef-5d17ff7e9930\",\"type\":\"MercatorTickFormatter\"},\"major_label_orientation\":\"horizontal\",\"plot\":{\"id\":\"e3aaccd9-d532-41eb-a59d-860859bfb3bf\",\"subtype\":\"Figure\",\"type\":\"Plot\"},\"ticker\":{\"id\":\"addd9558-a864-47f5-8e8a-15862372e7ab\",\"type\":\"MercatorTicker\"}},\"id\":\"72e509e0-ef31-4d53-82cc-c1a808779834\",\"type\":\"LinearAxis\"},{\"attributes\":{\"data_source\":{\"id\":\"6c3e0aaf-0fc5-495d-97c3-0a3a20f0fdd4\",\"type\":\"ColumnDataSource\"},\"glyph\":{\"id\":\"2745d1b3-502d-459a-85bd-f5b4499b92a4\",\"type\":\"Patches\"},\"hover_glyph\":null,\"muted_glyph\":null,\"nonselection_glyph\":{\"id\":\"ab20f520-abe6-44e7-a1af-7919ac0a943a\",\"type\":\"Patches\"},\"selection_glyph\":null,\"view\":{\"id\":\"8cb5f439-63ab-44cb-ad88-afe6c4bf1913\",\"type\":\"CDSView\"}},\"id\":\"50b4f1da-416a-46db-864f-3380b5c7c034\",\"type\":\"GlyphRenderer\"},{\"attributes\":{\"callback\":null,\"end\":3812087.1746019977,\"start\":3769875.8264191006},\"id\":\"74558eae-8616-4d90-b99f-f2c95138f6a3\",\"type\":\"Range1d\"},{\"attributes\":{\"active_drag\":\"auto\",\"active_inspect\":\"auto\",\"active_scroll\":\"auto\",\"active_tap\":\"auto\",\"tools\":[{\"id\":\"0f1f2dbd-fee8-4835-a521-7b646b44f191\",\"type\":\"BoxZoomTool\"},{\"id\":\"83298b7b-ce1a-497d-99bd-a48323ec17a5\",\"type\":\"SaveTool\"},{\"id\":\"119bd433-24a8-42da-b844-b7555d1a90a3\",\"type\":\"PanTool\"},{\"id\":\"8bd716d5-b5aa-4ad5-8ffd-0e143f5b259a\",\"type\":\"WheelZoomTool\"},{\"id\":\"97c93bb9-7437-45ad-9ac6-455761d696ed\",\"type\":\"ResetTool\"},{\"id\":\"20152e6c-30a4-46c9-9873-9d649431185c\",\"type\":\"BoxSelectTool\"},{\"id\":\"b2538261-0b30-4c4e-9b68-5011c3b5faa7\",\"type\":\"PolyEditTool\"}]},\"id\":\"761f8772-7833-4720-a7fe-9cab7604a438\",\"type\":\"Toolbar\"},{\"attributes\":{\"renderers\":[{\"id\":\"50b4f1da-416a-46db-864f-3380b5c7c034\",\"type\":\"GlyphRenderer\"}],\"vertex_renderer\":{\"id\":\"83702e12-9f73-4fe2-93bd-cc1f62c41357\",\"type\":\"GlyphRenderer\"}},\"id\":\"b2538261-0b30-4c4e-9b68-5011c3b5faa7\",\"type\":\"PolyEditTool\"},{\"attributes\":{\"dimension\":\"lat\"},\"id\":\"1b3e4e7c-7599-483e-8c53-ae5e35e7e903\",\"type\":\"MercatorTickFormatter\"},{\"attributes\":{\"fill_alpha\":{\"value\":0.5},\"fill_color\":{\"value\":\"#30A2DA\"},\"line_alpha\":{\"value\":0.5},\"line_color\":{\"value\":\"#000000\"},\"xs\":{\"field\":\"xs\"},\"ys\":{\"field\":\"ys\"}},\"id\":\"2745d1b3-502d-459a-85bd-f5b4499b92a4\",\"type\":\"Patches\"},{\"attributes\":{\"data_source\":{\"id\":\"82b210d6-e0cd-41bd-bd67-3dcb7f50386e\",\"type\":\"ColumnDataSource\"},\"glyph\":{\"id\":\"06e6dc60-29cc-4a7d-90e7-a0b2efda6819\",\"type\":\"Circle\"},\"hover_glyph\":null,\"muted_glyph\":null,\"nonselection_glyph\":{\"id\":\"a4187bce-d390-4f9b-abcd-acf353897677\",\"type\":\"Circle\"},\"selection_glyph\":null,\"view\":{\"id\":\"7df7e324-108d-49c7-8609-595c99c02ec0\",\"type\":\"CDSView\"}},\"id\":\"83702e12-9f73-4fe2-93bd-cc1f62c41357\",\"type\":\"GlyphRenderer\"},{\"attributes\":{},\"id\":\"61c45ec9-d3eb-4b8d-b9b6-53c8872b026a\",\"type\":\"BasicTicker\"},{\"attributes\":{\"args\":{\"source\":{\"id\":\"6c3e0aaf-0fc5-495d-97c3-0a3a20f0fdd4\",\"type\":\"ColumnDataSource\"}},\"code\":\"var data = {};\\nif ((source != undefined)) { data[\\\"data\\\"] = {id: source[\\\"id\\\"], value: source[\\\"data\\\"]};\\n }\\n        function unique_events(events) {\\n            // Processes the event queue ignoring duplicate events\\n            // of the same type\\n            var unique = [];\\n            var unique_events = [];\\n            for (var i=0; i<events.length; i++) {\\n                var _tmpevent = events[i];\\n                event = _tmpevent[0];\\n                data = _tmpevent[1];\\n                if (unique_events.indexOf(event)===-1) {\\n                    unique.unshift(data);\\n                    unique_events.push(event);\\n                }\\n            }\\n            return unique;\\n        }\\n\\n        function process_events(comm_state) {\\n            // Iterates over event queue and sends events via Comm\\n            var events = unique_events(comm_state.event_buffer);\\n            for (var i=0; i<events.length; i++) {\\n                var data = events[i];\\n                var comm = HoloViewsWidget.comms[data[\\\"comm_id\\\"]];\\n                comm.send(data);\\n            }\\n            comm_state.event_buffer = [];\\n        }\\n\\n        function on_msg(msg){\\n          // Receives acknowledgement from Python, processing event\\n          // and unblocking Comm if event queue empty\\n          msg = JSON.parse(msg.content.data);\\n          var comm_id = msg[\\\"comm_id\\\"]\\n          var comm_state = HoloViewsWidget.comm_state[comm_id];\\n          if (comm_state.event_buffer.length) {\\n            process_events(comm_state);\\n            comm_state.blocked = true;\\n            comm_state.time = Date.now()+20;\\n          } else {\\n            comm_state.blocked = false;\\n          }\\n          comm_state.event_buffer = [];\\n          if ((msg.msg_type == \\\"Ready\\\") && msg.content) {\\n            console.log(\\\"Python callback returned following output:\\\", msg.content);\\n          } else if (msg.msg_type == \\\"Error\\\") {\\n            console.log(\\\"Python failed with the following traceback:\\\", msg['traceback'])\\n          }\\n        }\\n\\n        // Initialize Comm\\n        if ((window.Jupyter !== undefined) && (Jupyter.notebook.kernel != null)) {\\n          var comm_manager = Jupyter.notebook.kernel.comm_manager;\\n          var comm = HoloViewsWidget.comms[\\\"89bd82032a2f45318b06b4bb3be3e298\\\"];\\n          if (comm == null) {\\n            comm = comm_manager.new_comm(\\\"89bd82032a2f45318b06b4bb3be3e298\\\", {}, {}, {});\\n            comm.on_msg(on_msg);\\n            comm_manager[\\\"89bd82032a2f45318b06b4bb3be3e298\\\"] = comm;\\n            HoloViewsWidget.comms[\\\"89bd82032a2f45318b06b4bb3be3e298\\\"] = comm;\\n          }\\n        } else {\\n          return\\n        }\\n\\n        // Initialize event queue and timeouts for Comm\\n        var comm_state = HoloViewsWidget.comm_state[\\\"89bd82032a2f45318b06b4bb3be3e298\\\"];\\n        if (comm_state === undefined) {\\n            comm_state = {event_buffer: [], blocked: false, time: Date.now()}\\n            HoloViewsWidget.comm_state[\\\"89bd82032a2f45318b06b4bb3be3e298\\\"] = comm_state\\n        }\\n\\n        // Add current event to queue and process queue if not blocked\\n        event_name = cb_obj.event_name\\n        data['comm_id'] = \\\"89bd82032a2f45318b06b4bb3be3e298\\\";\\n        timeout = comm_state.time + 20000;\\n        if ((window.Jupyter == null) | (Jupyter.notebook.kernel == null)) {\\n        } else if ((comm_state.blocked && (Date.now() < timeout))) {\\n            comm_state.event_buffer.unshift([event_name, data]);\\n        } else {\\n            comm_state.event_buffer.unshift([event_name, data]);\\n            setTimeout(function() { process_events(comm_state); }, 20);\\n            comm_state.blocked = true;\\n            comm_state.time = Date.now()+20;\\n        }\\n    \"},\"id\":\"d7906e60-7093-475f-b8b8-072541c09953\",\"type\":\"CustomJS\"},{\"attributes\":{},\"id\":\"d5764dd1-8e36-43f5-ba40-6f35f15b913c\",\"type\":\"LinearScale\"},{\"attributes\":{\"source\":{\"id\":\"82b210d6-e0cd-41bd-bd67-3dcb7f50386e\",\"type\":\"ColumnDataSource\"}},\"id\":\"7df7e324-108d-49c7-8609-595c99c02ec0\",\"type\":\"CDSView\"},{\"attributes\":{\"dimension\":\"lon\"},\"id\":\"addd9558-a864-47f5-8e8a-15862372e7ab\",\"type\":\"MercatorTicker\"},{\"attributes\":{\"callback\":null,\"column_names\":[\"x\",\"y\"],\"data\":{\"x\":[],\"y\":[]}},\"id\":\"82b210d6-e0cd-41bd-bd67-3dcb7f50386e\",\"type\":\"ColumnDataSource\"},{\"attributes\":{},\"id\":\"46f7a4a6-e7e2-490a-8858-2e9c6c64a7cc\",\"type\":\"LinearScale\"},{\"attributes\":{\"fill_color\":{\"value\":\"#1f77b4\"},\"line_color\":{\"value\":\"#1f77b4\"},\"size\":{\"units\":\"screen\",\"value\":10},\"x\":{\"field\":\"x\"},\"y\":{\"field\":\"y\"}},\"id\":\"06e6dc60-29cc-4a7d-90e7-a0b2efda6819\",\"type\":\"Circle\"},{\"attributes\":{\"fill_alpha\":{\"value\":0.5},\"fill_color\":{\"value\":\"#30A2DA\"},\"line_alpha\":{\"value\":0.5},\"line_color\":{\"value\":\"#000000\"},\"xs\":{\"field\":\"xs\"},\"ys\":{\"field\":\"ys\"}},\"id\":\"ab20f520-abe6-44e7-a1af-7919ac0a943a\",\"type\":\"Patches\"},{\"attributes\":{\"url\":\"http://c.tile.openstreetmap.org/{Z}/{X}/{Y}.png\"},\"id\":\"6974a671-67cf-40bc-a3b9-e77bcb4b8700\",\"type\":\"WMTSTileSource\"},{\"attributes\":{},\"id\":\"83298b7b-ce1a-497d-99bd-a48323ec17a5\",\"type\":\"SaveTool\"}],\"root_ids\":[\"e3aaccd9-d532-41eb-a59d-860859bfb3bf\"]},\"title\":\"Bokeh Application\",\"version\":\"0.12.14dev7\"}};\n",
       "  var render_items = [{\"docid\":\"375a17c9-6004-4290-a2bc-b88fbd607066\",\"elementid\":\"c6c0bd30-e81b-4e84-8153-d3eb938f6d97\",\"modelid\":\"e3aaccd9-d532-41eb-a59d-860859bfb3bf\"}];\n",
       "  root.Bokeh.embed.embed_items_notebook(docs_json, render_items);\n",
       "\n",
       "  }\n",
       "  if (root.Bokeh !== undefined) {\n",
       "    embed_document(root);\n",
       "  } else {\n",
       "    var attempts = 0;\n",
       "    var timer = setInterval(function(root) {\n",
       "      if (root.Bokeh !== undefined) {\n",
       "        embed_document(root);\n",
       "        clearInterval(timer);\n",
       "      }\n",
       "      attempts++;\n",
       "      if (attempts > 100) {\n",
       "        console.log(\"Bokeh: ERROR: Unable to run BokehJS code because BokehJS library is missing\")\n",
       "        clearInterval(timer);\n",
       "      }\n",
       "    }, 10, root)\n",
       "  }\n",
       "})(window);\n",
       "</script>\n",
       "</div>"
      ],
      "text/plain": [
       ":Overlay\n",
       "   .WMTS.I  :WMTS   [Longitude,Latitude]\n",
       "   .Shape.I :Shape   [Longitude,Latitude]   (Level)"
      ]
     },
     "execution_count": 14,
     "metadata": {},
     "output_type": "execute_result"
    }
   ],
   "source": [
    "%%opts Shape [width=900 height=500 tools=['box_select']] (alpha=0.5)\n",
    "mask_shape = gv.Shape.from_shapefile(model_creator.mask_shapefile).last\n",
    "tiles = gv.WMTS('http://c.tile.openstreetmap.org/{Z}/{X}/{Y}.png')\n",
    "vertex_stream = PolyEdit(source=mask_shape)\n",
    "tiles * mask_shape"
   ]
  },
  {
   "cell_type": "markdown",
   "metadata": {},
   "source": [
    "If any edits were made to the polygon in the plot above we save the ``watershed_boundary.shp`` back out and redisplay it to confirm our edits were applied correctly:"
   ]
  },
  {
   "cell_type": "code",
   "execution_count": 15,
   "metadata": {},
   "outputs": [
    {
     "ename": "NameError",
     "evalue": "name 'fiona' is not defined",
     "output_type": "error",
     "traceback": [
      "\u001b[0;31m---------------------------------------------------------------------------\u001b[0m",
      "\u001b[0;31mNameError\u001b[0m                                 Traceback (most recent call last)",
      "\u001b[0;32m<ipython-input-15-12812a731b62>\u001b[0m in \u001b[0;36m<module>\u001b[0;34m()\u001b[0m\n\u001b[1;32m      1\u001b[0m \u001b[0;32mif\u001b[0m \u001b[0mvertex_stream\u001b[0m\u001b[0;34m.\u001b[0m\u001b[0mdata\u001b[0m\u001b[0;34m:\u001b[0m\u001b[0;34m\u001b[0m\u001b[0m\n\u001b[1;32m      2\u001b[0m     \u001b[0medited_shape_fname\u001b[0m \u001b[0;34m=\u001b[0m \u001b[0;34m'./vicksburg_watershed_edited/watershed_boundary.shp'\u001b[0m\u001b[0;34m\u001b[0m\u001b[0m\n\u001b[0;32m----> 3\u001b[0;31m     \u001b[0msave_shapefile\u001b[0m\u001b[0;34m(\u001b[0m\u001b[0mvertex_stream\u001b[0m\u001b[0;34m.\u001b[0m\u001b[0mdata\u001b[0m\u001b[0;34m,\u001b[0m \u001b[0medited_shape_fname\u001b[0m\u001b[0;34m,\u001b[0m \u001b[0mmodel_creator\u001b[0m\u001b[0;34m.\u001b[0m\u001b[0mmask_shapefile\u001b[0m\u001b[0;34m)\u001b[0m\u001b[0;34m\u001b[0m\u001b[0m\n\u001b[0m\u001b[1;32m      4\u001b[0m     \u001b[0mmodel_creator\u001b[0m\u001b[0;34m.\u001b[0m\u001b[0mmask_shapefile\u001b[0m \u001b[0;34m=\u001b[0m \u001b[0medited_shape_fname\u001b[0m\u001b[0;34m\u001b[0m\u001b[0m\n\u001b[1;32m      5\u001b[0m     \u001b[0mmask_shape\u001b[0m \u001b[0;34m=\u001b[0m \u001b[0mgv\u001b[0m\u001b[0;34m.\u001b[0m\u001b[0mShape\u001b[0m\u001b[0;34m.\u001b[0m\u001b[0mfrom_shapefile\u001b[0m\u001b[0;34m(\u001b[0m\u001b[0medited_shape_fname\u001b[0m\u001b[0;34m)\u001b[0m\u001b[0;34m.\u001b[0m\u001b[0mlast\u001b[0m\u001b[0;34m\u001b[0m\u001b[0m\n",
      "\u001b[0;32m~/client_projects/erdc/EarthSim/earthsim/io.py\u001b[0m in \u001b[0;36msave_shapefile\u001b[0;34m(cdsdata, path, template)\u001b[0m\n\u001b[1;32m    154\u001b[0m     \u001b[0musing\u001b[0m \u001b[0man\u001b[0m \u001b[0mexisting\u001b[0m \u001b[0mtemplate\u001b[0m \u001b[0mto\u001b[0m \u001b[0mdetermine\u001b[0m \u001b[0mthe\u001b[0m \u001b[0mrequired\u001b[0m \u001b[0mschema\u001b[0m\u001b[0;34m.\u001b[0m\u001b[0;34m\u001b[0m\u001b[0m\n\u001b[1;32m    155\u001b[0m     \"\"\"\n\u001b[0;32m--> 156\u001b[0;31m     \u001b[0mcollection\u001b[0m \u001b[0;34m=\u001b[0m \u001b[0mfiona\u001b[0m\u001b[0;34m.\u001b[0m\u001b[0mopen\u001b[0m\u001b[0;34m(\u001b[0m\u001b[0mtemplate\u001b[0m\u001b[0;34m)\u001b[0m\u001b[0;34m\u001b[0m\u001b[0m\n\u001b[0m\u001b[1;32m    157\u001b[0m     \u001b[0marrays\u001b[0m \u001b[0;34m=\u001b[0m \u001b[0;34m[\u001b[0m\u001b[0mnp\u001b[0m\u001b[0;34m.\u001b[0m\u001b[0mcolumn_stack\u001b[0m\u001b[0;34m(\u001b[0m\u001b[0;34m[\u001b[0m\u001b[0mxs\u001b[0m\u001b[0;34m,\u001b[0m \u001b[0mys\u001b[0m\u001b[0;34m]\u001b[0m\u001b[0;34m)\u001b[0m \u001b[0;32mfor\u001b[0m \u001b[0mxs\u001b[0m\u001b[0;34m,\u001b[0m \u001b[0mys\u001b[0m \u001b[0;32min\u001b[0m \u001b[0mzip\u001b[0m\u001b[0;34m(\u001b[0m\u001b[0mcdsdata\u001b[0m\u001b[0;34m[\u001b[0m\u001b[0;34m'xs'\u001b[0m\u001b[0;34m]\u001b[0m\u001b[0;34m,\u001b[0m \u001b[0mcdsdata\u001b[0m\u001b[0;34m[\u001b[0m\u001b[0;34m'ys'\u001b[0m\u001b[0;34m]\u001b[0m\u001b[0;34m)\u001b[0m\u001b[0;34m]\u001b[0m\u001b[0;34m\u001b[0m\u001b[0m\n\u001b[1;32m    158\u001b[0m     \u001b[0mpolys\u001b[0m \u001b[0;34m=\u001b[0m \u001b[0mgv\u001b[0m\u001b[0;34m.\u001b[0m\u001b[0mPolygons\u001b[0m\u001b[0;34m(\u001b[0m\u001b[0marrays\u001b[0m\u001b[0;34m,\u001b[0m \u001b[0mcrs\u001b[0m\u001b[0;34m=\u001b[0m\u001b[0mccrs\u001b[0m\u001b[0;34m.\u001b[0m\u001b[0mGOOGLE_MERCATOR\u001b[0m\u001b[0;34m)\u001b[0m\u001b[0;34m\u001b[0m\u001b[0m\n",
      "\u001b[0;31mNameError\u001b[0m: name 'fiona' is not defined"
     ]
    }
   ],
   "source": [
    "%%opts Shape [width=600 height=400] (alpha=0.5)\n",
    "if vertex_stream.data:\n",
    "    edited_shape_fname = './vicksburg_watershed_edited/watershed_boundary.shp'\n",
    "    save_shapefile(vertex_stream.data, edited_shape_fname, model_creator.mask_shapefile)\n",
    "    model_creator.mask_shapefile = edited_shape_fname\n",
    "    mask_shape = gv.Shape.from_shapefile(edited_shape_fname).last\n",
    "mask_shape = mask_shape.opts() # Clear options\n",
    "mask_shape"
   ]
  },
  {
   "cell_type": "markdown",
   "metadata": {},
   "source": [
    "## Configure simulation parameters"
   ]
  },
  {
   "cell_type": "code",
   "execution_count": null,
   "metadata": {},
   "outputs": [],
   "source": [
    "sim = esgssha.Simulation(name='Vicksburg South Simulation', simulation_duration=60*60,\n",
    "                          rain_duration=30*60, model_creator=model_creator)\n",
    "paramnb.Widgets(sim,initializer=paramnb.JSONInit())"
   ]
  },
  {
   "cell_type": "markdown",
   "metadata": {},
   "source": [
    "## Create the model"
   ]
  },
  {
   "cell_type": "code",
   "execution_count": null,
   "metadata": {},
   "outputs": [],
   "source": [
    "if sim.model_creator.project_name not in quest.api.get_collections():\n",
    "    quest.api.new_collection(sim.model_creator.project_name)"
   ]
  },
  {
   "cell_type": "code",
   "execution_count": null,
   "metadata": {},
   "outputs": [],
   "source": [
    "paramnb.Widgets(sim.model_creator,initializer=paramnb.JSONInit())"
   ]
  },
  {
   "cell_type": "code",
   "execution_count": null,
   "metadata": {},
   "outputs": [],
   "source": [
    "# temporary workaround until workflow cleanup/parameterization is done\n",
    "if sim.model_creator.project_name == 'test_philippines_small':\n",
    "    sim.model_creator.roughness = models.GriddedRoughnessTable(\n",
    "        land_use_grid=get_file_from_quest(sim.model_creator.project_name, sim.land_use_service, 'landuse', sim.model_creator.mask_shapefile),\n",
    "        land_use_to_roughness_table='./philippines_small/land_cover_glcf_modis.txt')\n",
    "else:    \n",
    "    sim.model_creator.roughness = models.GriddedRoughnessID(\n",
    "        land_use_grid=get_file_from_quest(sim.model_creator.project_name, sim.land_use_service, 'landuse', sim.model_creator.mask_shapefile),\n",
    "        land_use_grid_id=sim.land_use_grid_id)\n",
    "\n",
    "sim.model_creator.elevation_grid_path = get_file_from_quest(sim.model_creator.project_name, sim.elevation_service, 'elevation', sim.model_creator.mask_shapefile)"
   ]
  },
  {
   "cell_type": "code",
   "execution_count": null,
   "metadata": {},
   "outputs": [],
   "source": [
    "model = sim.model_creator()"
   ]
  },
  {
   "cell_type": "code",
   "execution_count": null,
   "metadata": {},
   "outputs": [],
   "source": [
    "# add card for max depth\n",
    "model.project_manager.setCard('FLOOD_GRID',\n",
    "                              '{0}.fgd'.format(sim.model_creator.project_name),\n",
    "                              add_quotes=True)\n",
    "# Add time-based depth grids to simulation\n",
    "\"\"\"\n",
    "See: http://www.gsshawiki.com/Project_File:Output_Files_%E2%80%93_Required\n",
    "\n",
    "Filename or folder to output MAP_TYPE maps of overland flow depth (m) \n",
    "every MAP_FREQ minutes. If MAP_TYPE=0, then [value] is a folder name \n",
    "and output files are called \"value\\depth.####.asc\" **\n",
    "\"\"\"\n",
    "\n",
    "# TODO: needs an update from Philipp\n",
    "model.project_manager.setCard('DEPTH', '.', add_quotes=True)\n",
    "model.project_manager.setCard('MAP_FREQ', '1')\n",
    "\n",
    "# add event for simulation (optional)\n",
    "\"\"\"\n",
    "model.set_event(simulation_start=sim.simulation_start,\n",
    "                simulation_duration=timedelta(seconds=sim.simulation_duration),\n",
    "                rain_intensity=sim.rain_intensity,\n",
    "                rain_duration=timedelta(seconds=sim.rain_duration))\n",
    "\"\"\"\n",
    "# write to disk\n",
    "model.write()"
   ]
  },
  {
   "cell_type": "markdown",
   "metadata": {},
   "source": [
    "Missing parameters:\n",
    "\n",
    "* db_session(Optional[database session]): Active database session object. Required for existing model.\n",
    "* project_manager(Optional[ProjectFile]): Initialized ProjectFile object. Required for existing model.\n"
   ]
  },
  {
   "cell_type": "markdown",
   "metadata": {},
   "source": [
    "## Review model inputs"
   ]
  },
  {
   "cell_type": "markdown",
   "metadata": {},
   "source": [
    "### Load inputs to the simulation"
   ]
  },
  {
   "cell_type": "code",
   "execution_count": null,
   "metadata": {},
   "outputs": [],
   "source": [
    "CRS = get_ccrs(os.path.join(sim.model_creator.project_name,\n",
    "                            sim.model_creator.project_name+'_prj.pro'))\n",
    "\n",
    "roughness_arr = open_gssha(os.path.join(sim.model_creator.project_name,'roughness.idx'))\n",
    "msk_arr = open_gssha(os.path.join(sim.model_creator.project_name,\n",
    "                                  sim.model_creator.project_name+'.msk'))\n",
    "ele_arr = open_gssha(os.path.join(sim.model_creator.project_name,\n",
    "                                  sim.model_creator.project_name+'.ele'))\n",
    "\n",
    "roughness = gv.Image(roughness_arr, crs=CRS, label='roughness.idx')\n",
    "mask = gv.Image(msk_arr, crs=CRS, label='vicksburg_south.msk')\n",
    "ele = gv.Image(ele_arr, crs=CRS, label='vicksburg_south.ele')"
   ]
  },
  {
   "cell_type": "markdown",
   "metadata": {},
   "source": [
    "#### Shapefile vs. Mask"
   ]
  },
  {
   "cell_type": "code",
   "execution_count": null,
   "metadata": {},
   "outputs": [],
   "source": [
    "tiles * regrid(mask) * mask_shape"
   ]
  },
  {
   "cell_type": "markdown",
   "metadata": {},
   "source": [
    "#### Elevation"
   ]
  },
  {
   "cell_type": "code",
   "execution_count": null,
   "metadata": {},
   "outputs": [],
   "source": [
    "tiles * regrid(ele) * mask_shape"
   ]
  },
  {
   "cell_type": "markdown",
   "metadata": {},
   "source": [
    "#### Roughness"
   ]
  },
  {
   "cell_type": "code",
   "execution_count": null,
   "metadata": {},
   "outputs": [],
   "source": [
    "tiles * regrid(roughness) * mask_shape"
   ]
  },
  {
   "cell_type": "markdown",
   "metadata": {},
   "source": [
    "# Run"
   ]
  },
  {
   "cell_type": "code",
   "execution_count": null,
   "metadata": {},
   "outputs": [],
   "source": [
    "from gsshapy.modeling import GSSHAFramework"
   ]
  },
  {
   "cell_type": "code",
   "execution_count": null,
   "metadata": {},
   "outputs": [],
   "source": [
    "# TODO: how does the info here relate to that set earlier?\n",
    "\n",
    "# TODO: understand comment below\n",
    "# assuming notebook is run from examples folder\n",
    "project_path = os.path.join(sim.model_creator.project_base_directory, sim.model_creator.project_name)\n",
    "gr = GSSHAFramework(\"gssha\",\n",
    "                    project_path,\n",
    "                    \"{0}.prj\".format(sim.model_creator.project_name),\n",
    "                    gssha_simulation_start=sim.simulation_start,\n",
    "                    gssha_simulation_duration=timedelta(seconds=sim.simulation_duration),\n",
    "                    # load_simulation_datetime=True,  # use this if already set datetime params in project file\n",
    "                   )\n",
    "\n",
    "# http://www.gsshawiki.com/Model_Construction:Defining_a_uniform_precipitation_event\n",
    "gr.event_manager.add_uniform_precip_event(sim.rain_intensity, \n",
    "                                          timedelta(seconds=sim.rain_duration))\n",
    "\n",
    "gssha_event_directory = gr.run()"
   ]
  },
  {
   "cell_type": "markdown",
   "metadata": {},
   "source": [
    "# Visualizing the outputs"
   ]
  },
  {
   "cell_type": "markdown",
   "metadata": {},
   "source": [
    "### Load and visualize depths over time"
   ]
  },
  {
   "cell_type": "code",
   "execution_count": null,
   "metadata": {},
   "outputs": [],
   "source": [
    "depth_nc = os.path.join(gssha_event_directory, 'depths.nc')\n",
    "if not os.path.isfile(depth_nc):\n",
    "    # Load depth data files\n",
    "    depth_map = hv.HoloMap(kdims=['Minute'])\n",
    "    for fname in glob.glob(os.path.join(gssha_event_directory, 'depth.*.asc')):\n",
    "        depth_arr = open_gssha(fname)\n",
    "        minute = int(fname.split('.')[-2])\n",
    "        # NOTE: Due to precision issues not all empty cells match the NaN value properly, fix later\n",
    "        depth_arr.data[depth_arr.data==depth_arr.data[0,0]] = np.NaN\n",
    "        depth_map[minute] = hv.Image(depth_arr)\n",
    "\n",
    "    # Convert data to an xarray and save as NetCDF\n",
    "    arrays = []\n",
    "    for minute, img in depth_map.items():\n",
    "        ds = hv.Dataset(img)\n",
    "        arr = ds.data.z.assign_coords(minute=minute)\n",
    "        arrays.append(arr)\n",
    "    depths = xr.concat(arrays, 'minute')\n",
    "    depths.to_netcdf(depth_nc)\n",
    "else:\n",
    "    depths = xr.open_dataset(depth_nc)\n",
    "\n",
    "depth_ds = hv.Dataset(depths)\n",
    "depth_ds.data"
   ]
  },
  {
   "cell_type": "markdown",
   "metadata": {},
   "source": [
    "Now that we have a Dataset of depths we can convert it to a series of Images."
   ]
  },
  {
   "cell_type": "code",
   "execution_count": null,
   "metadata": {},
   "outputs": [],
   "source": [
    "%%opts Image [width=600 height=400 logz=True xaxis=None yaxis=None] (cmap='viridis') Histogram {+framewise}\n",
    "regrid(depth_ds.to(hv.Image, ['x', 'y'])).redim.range(z=(0, 0.04)).hist(bin_range=(0, 0.04))"
   ]
  },
  {
   "cell_type": "markdown",
   "metadata": {},
   "source": [
    "We can also lay out to allow for easier comparison."
   ]
  },
  {
   "cell_type": "code",
   "execution_count": null,
   "metadata": {},
   "outputs": [],
   "source": [
    "%%opts Image [width=300 height=300 logz=True xaxis=None yaxis=None] (cmap='viridis')\n",
    "regrid(depth_ds.select(minute=range(10, 70, 10)).to(hv.Image, ['x', 'y']).redim.range(z=(0, 0.04))).layout().cols(3)"
   ]
  },
  {
   "cell_type": "markdown",
   "metadata": {},
   "source": [
    "### Flood Grid Depth"
   ]
  },
  {
   "cell_type": "code",
   "execution_count": null,
   "metadata": {},
   "outputs": [],
   "source": [
    "%%opts Image [width=600 height=400] (cmap='viridis')\n",
    "fgd_arr = open_gssha(os.path.join(gssha_event_directory,'{0}.fgd'.format(sim.model_creator.project_name)))\n",
    "fgd = gv.Image(fgd_arr, crs=CRS, label='vicksburg_south.fgd').redim.range(z=(0, 0.04))\n",
    "regrid(fgd, streams=[hv.streams.RangeXY]).redim.range(z=(0, 0.04))"
   ]
  },
  {
   "cell_type": "markdown",
   "metadata": {},
   "source": [
    "### Analyzing the simulation speed"
   ]
  },
  {
   "cell_type": "code",
   "execution_count": null,
   "metadata": {},
   "outputs": [],
   "source": [
    "%%opts Spikes [width=600]\n",
    "times = np.array([os.path.getmtime(f) for f in glob.glob(os.path.join(gssha_event_directory, 'depth*.asc'))] )\n",
    "minutes = (times-times[0])/60\n",
    "hv.Spikes(minutes, kdims=['Real Time (minutes)'], label='Time elapsed for each minute of simulation time') +\\\n",
    "hv.Curve(np.diff(minutes), kdims=['Simulation Time (min)'], vdims=[('runtime', 'Runtime per minute simulation time')]).redim.range(runtime=(0, None))"
   ]
  }
 ],
 "metadata": {
  "kernelspec": {
   "display_name": "Python 3",
   "language": "python",
   "name": "python3"
  },
  "language_info": {
   "codemirror_mode": {
    "name": "ipython",
    "version": 3
   },
   "file_extension": ".py",
   "mimetype": "text/x-python",
   "name": "python",
   "nbconvert_exporter": "python",
   "pygments_lexer": "ipython3",
   "version": "3.5.4"
  }
 },
 "nbformat": 4,
 "nbformat_minor": 2
}
