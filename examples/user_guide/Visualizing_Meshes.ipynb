{
 "cells": [
  {
   "cell_type": "code",
   "execution_count": null,
   "metadata": {
    "extensions": {
     "jupyter_dashboards": {
      "version": 1,
      "views": {
       "grid_default": {
        "hidden": true
       },
       "report_default": {
        "hidden": true
       }
      }
     }
    }
   },
   "outputs": [],
   "source": [
    "import numpy as np\n",
    "import datashader as ds\n",
    "import holoviews as hv\n",
    "import geoviews as gv\n",
    "import cartopy.crs as ccrs\n",
    "\n",
    "from holoviews.operation.datashader import datashade, rasterize\n",
    "from colorcet import cm_n\n",
    "from earthsim.io import read_3dm_mesh, read_mesh2d\n",
    "\n",
    "datashade.precompute = True\n",
    "\n",
    "hv.extension('bokeh')\n",
    "%output holomap='scrubber' fps=2\n",
    "%opts Image RGB VectorField [width=800 height=600]"
   ]
  },
  {
   "cell_type": "markdown",
   "metadata": {},
   "source": [
    "## Static meshes\n",
    "\n",
    "Static trimeshes can be loaded using the ``read_3dm_mesh`` utility, which will return its simplices and vertices. Here we will load a mesh of the Chesapeake and Delaware Bays.\n",
    "\n",
    "Before we declare the ``TriMesh`` we will project the coordinates of the vertices to a Mercator projection for plotting, doing this ahead of time will prevent GeoViews from projecting the coordinates whenever the plot is displayed. We also declare the 'z' dimension representing the values at each vertex."
   ]
  },
  {
   "cell_type": "code",
   "execution_count": null,
   "metadata": {},
   "outputs": [],
   "source": [
    "fpath = '../data/Chesapeake_and_Delaware_Bays.3dm'\n",
    "tris, verts = read_3dm_mesh(fpath)\n",
    "points = gv.operation.project_points(gv.Points(verts, vdims=['z']))"
   ]
  },
  {
   "cell_type": "markdown",
   "metadata": {},
   "source": [
    "Now we have the simplices and vertices we can construct the ``TriMesh``. Since the TriMesh is too large to display on its own we apply the ``datashade`` operation. To begin with we will simply visualize the underlying mesh by datashading just ``trimesh.edgepaths``:"
   ]
  },
  {
   "cell_type": "code",
   "execution_count": null,
   "metadata": {},
   "outputs": [],
   "source": [
    "tiles = gv.WMTS('https://maps.wikimedia.org/osm-intl/{Z}/{X}/{Y}@2x.png')\n",
    "trimesh = gv.TriMesh((tris, points))\n",
    "chesapeake_mesh = tiles * datashade(trimesh.edgepaths)\n",
    "chesapeake_mesh"
   ]
  },
  {
   "cell_type": "markdown",
   "metadata": {},
   "source": [
    "Since the mesh also has associated 'z' values we can also supply interpolate those values on the mesh by defining an aggregator:"
   ]
  },
  {
   "cell_type": "code",
   "execution_count": null,
   "metadata": {},
   "outputs": [],
   "source": [
    "tiles = gv.WMTS('https://maps.wikimedia.org/osm-intl/{Z}/{X}/{Y}@2x.png')\n",
    "trimesh = gv.TriMesh((tris, points))\n",
    "chesapeake_interp = tiles * datashade(trimesh, aggregator=ds.mean('z'))\n",
    "chesapeake_interp"
   ]
  },
  {
   "cell_type": "markdown",
   "metadata": {},
   "source": [
    "## Meshes over time"
   ]
  },
  {
   "cell_type": "markdown",
   "metadata": {},
   "source": [
    "When running environmental simulations such as AdH the mesh is also often accompanied by additional data files representing depths, velocity and error values over time.\n",
    "\n",
    "We again load a static mesh and project it from its native UTM Zone 11 coordinate system to the Mercator projection."
   ]
  },
  {
   "cell_type": "code",
   "execution_count": null,
   "metadata": {},
   "outputs": [],
   "source": [
    "fpath = '../data/SanDiego_Mesh/SanDiego.3dm'\n",
    "tris, verts = read_3dm_mesh(fpath, skiprows=2)\n",
    "points = gv.operation.project_points(gv.Points(verts, vdims=['z'], crs=ccrs.UTM(11)))\n",
    "trimesh = gv.TriMesh((tris, points))\n",
    "san_diego = tiles * datashade(trimesh, aggregator=ds.mean('z'))\n",
    "san_diego"
   ]
  },
  {
   "cell_type": "markdown",
   "metadata": {},
   "source": [
    "Next we load amesh2d .dat file containing Overland Velocity values over the course of a simulation. The ``read_mesh2d`` utility returns a dictionary of dataframes indexed by time."
   ]
  },
  {
   "cell_type": "code",
   "execution_count": null,
   "metadata": {},
   "outputs": [],
   "source": [
    "fpath = '../data/SanDiego_Mesh/SanDiego_err_hydro.dat'\n",
    "dfs = read_mesh2d(fpath)\n",
    "dfs[0].head()"
   ]
  },
  {
   "cell_type": "markdown",
   "metadata": {},
   "source": [
    "To explore this data we will wrap it in a ``DynamicMap`` which returns a TriMesh for each timepoint. First we declare some points containing the positions of the vertices and project those. Now we can make use of the ``add_dimension`` method on those points to add the additional 'HYDRO_ERROR' variable we loaded from the ``.dat`` file. Finally we declare a DynamicMap indexed by time with the keys of the dictionary as values."
   ]
  },
  {
   "cell_type": "code",
   "execution_count": null,
   "metadata": {},
   "outputs": [],
   "source": [
    "points = gv.operation.project_points(gv.Points((verts.x, verts.y), crs=ccrs.UTM(11)))\n",
    "\n",
    "def time_mesh(time):\n",
    "    depth_points = points.add_dimension('HYDRO_ERROR', 0, dfs[time].values[:, 0], vdim=True)\n",
    "    return gv.TriMesh((tris, depth_points), crs=ccrs.GOOGLE_MERCATOR)\n",
    "\n",
    "meshes = hv.DynamicMap(time_mesh, kdims='Time').redim.values(Time=sorted(dfs.keys()))"
   ]
  },
  {
   "cell_type": "markdown",
   "metadata": {},
   "source": [
    "Now we can ``rasterize`` the data by interpolating the 'Velocity' and again plot the data over a map. Since the activated ``holomap='scrubber'`` option above we get a widget to explore the dataset over time."
   ]
  },
  {
   "cell_type": "code",
   "execution_count": null,
   "metadata": {},
   "outputs": [],
   "source": [
    "%%opts Image [colorbar=True] (cmap=cm_n['rainbow'])\n",
    "error_meshes = rasterize(meshes, aggregator=ds.mean('HYDRO_ERROR'))\n",
    "tiles * error_meshes.redim.range(HYDRO_ERROR=(-0.3, 0.3))"
   ]
  },
  {
   "cell_type": "markdown",
   "metadata": {},
   "source": [
    "In addition to visualizing an interpolated mesh we can also visualize vector field data. The ``SanDiego_ovl`` file contains vector data, which we can again load using the ``read_mesh2d`` utility. The GeoViews element expects the data to be expressed as angle and magntitude values to we convert the values and then declare the ``VectorField``."
   ]
  },
  {
   "cell_type": "code",
   "execution_count": null,
   "metadata": {},
   "outputs": [],
   "source": [
    "%%opts VectorField [rescale_lengths=False size_index='Magnitude' color_index='Magnitude'] (scale=0.005)\n",
    "\n",
    "fpath = '../data/SanDiego_Mesh/SanDiego_ovl.dat'\n",
    "velocity_dfs = read_mesh2d(fpath)\n",
    "\n",
    "def time_field(time):\n",
    "    vx = velocity_dfs[time].values[:, 0]\n",
    "    vy = velocity_dfs[time].values[:, 1]\n",
    "    xs, ys = (points.dimension_values(i) for i in range(2))\n",
    "    angle = np.arctan(vy/vx)\n",
    "    mag = np.sqrt(vx**2+vy**2)\n",
    "    return gv.VectorField((xs, ys, angle, mag), vdims=['Angle', 'Magnitude'],\n",
    "                          crs=ccrs.GOOGLE_MERCATOR)\n",
    "\n",
    "vectors = hv.DynamicMap(time_field, kdims='Time').redim.values(Time=sorted(dfs.keys()))\n",
    "tiles * vectors"
   ]
  }
 ],
 "metadata": {
  "extensions": {
   "jupyter_dashboards": {
    "activeView": "report_default",
    "version": 1,
    "views": {
     "grid_default": {
      "cellMargin": 10,
      "defaultCellHeight": 20,
      "maxColumns": 12,
      "name": "grid",
      "type": "grid"
     },
     "report_default": {
      "name": "report",
      "type": "report"
     }
    }
   }
  },
  "kernelspec": {
   "display_name": "Python 3",
   "language": "python",
   "name": "python3"
  },
  "language_info": {
   "codemirror_mode": {
    "name": "ipython",
    "version": 3
   },
   "file_extension": ".py",
   "mimetype": "text/x-python",
   "name": "python",
   "nbconvert_exporter": "python",
   "pygments_lexer": "ipython3",
   "version": "3.5.4"
  }
 },
 "nbformat": 4,
 "nbformat_minor": 2
}
